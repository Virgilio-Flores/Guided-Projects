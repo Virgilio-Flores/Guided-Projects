{
 "cells": [
  {
   "cell_type": "markdown",
   "metadata": {},
   "source": [
    "For updating: <br>\n",
    "In this guided project, we'll work with stock market data downloaded from Yahoo Finance using the yahoo_finance Python package. This data consists of the daily stock prices from 2007-1-1 to 2017-04-17 for several hundred stock symbols traded on the NASDAQ stock exchange, stored in the prices folder. We used the download_data.py script in the same folder as the Jupyter notebook to download all of the stock price data. "
   ]
  },
  {
   "cell_type": "code",
   "execution_count": 1,
   "metadata": {},
   "outputs": [],
   "source": [
    "import pandas as pd\n",
    "import os\n",
    "\n",
    "from IPython.display import display, Markdown"
   ]
  },
  {
   "cell_type": "code",
   "execution_count": 2,
   "metadata": {},
   "outputs": [],
   "source": [
    "# Iniialize dictionary\n",
    "prices_df_dict = {}"
   ]
  },
  {
   "cell_type": "code",
   "execution_count": 3,
   "metadata": {},
   "outputs": [],
   "source": [
    "#  fn means filename\n",
    "\n",
    "for fn in os.listdir(\"prices\"):\n",
    "    key = fn.split(\".csv\")[0]\n",
    "    \n",
    "    df = pd.read_csv(os.path.join(\"prices\", fn))\n",
    "    prices_df_dict[key] = df\n"
   ]
  },
  {
   "cell_type": "markdown",
   "metadata": {},
   "source": [
    "Calculate the average values for each stock"
   ]
  },
  {
   "cell_type": "code",
   "execution_count": 4,
   "metadata": {},
   "outputs": [],
   "source": [
    "stock_mean_dict = {}\n",
    "for stock_name in prices_df_dict.keys():\n",
    "    stock_mean_dict[stock_name] = prices_df_dict[stock_name].mean()\n",
    "    "
   ]
  },
  {
   "cell_type": "code",
   "execution_count": 5,
   "metadata": {},
   "outputs": [],
   "source": [
    "# convert the dictionary into a dataframe\n",
    "# get the target analysis\n",
    "# optimize the process using multiprocessing (apply what you've learned to make it stick)"
   ]
  },
  {
   "cell_type": "code",
   "execution_count": 6,
   "metadata": {},
   "outputs": [
    {
     "data": {
      "text/html": [
       "<div>\n",
       "<style scoped>\n",
       "    .dataframe tbody tr th:only-of-type {\n",
       "        vertical-align: middle;\n",
       "    }\n",
       "\n",
       "    .dataframe tbody tr th {\n",
       "        vertical-align: top;\n",
       "    }\n",
       "\n",
       "    .dataframe thead th {\n",
       "        text-align: right;\n",
       "    }\n",
       "</style>\n",
       "<table border=\"1\" class=\"dataframe\">\n",
       "  <thead>\n",
       "    <tr style=\"text-align: right;\">\n",
       "      <th></th>\n",
       "      <th>close</th>\n",
       "      <th>open</th>\n",
       "      <th>high</th>\n",
       "      <th>low</th>\n",
       "      <th>volume</th>\n",
       "    </tr>\n",
       "  </thead>\n",
       "  <tbody>\n",
       "    <tr>\n",
       "      <th>dgica</th>\n",
       "      <td>14.986583</td>\n",
       "      <td>14.986066</td>\n",
       "      <td>15.206610</td>\n",
       "      <td>14.742745</td>\n",
       "      <td>27233.783784</td>\n",
       "    </tr>\n",
       "    <tr>\n",
       "      <th>bdge</th>\n",
       "      <td>24.120351</td>\n",
       "      <td>24.118892</td>\n",
       "      <td>24.400737</td>\n",
       "      <td>23.828386</td>\n",
       "      <td>20277.953668</td>\n",
       "    </tr>\n",
       "    <tr>\n",
       "      <th>cvco</th>\n",
       "      <td>53.365436</td>\n",
       "      <td>53.362023</td>\n",
       "      <td>54.303954</td>\n",
       "      <td>52.433988</td>\n",
       "      <td>40272.393822</td>\n",
       "    </tr>\n",
       "    <tr>\n",
       "      <th>blkb</th>\n",
       "      <td>33.755378</td>\n",
       "      <td>33.719023</td>\n",
       "      <td>34.185849</td>\n",
       "      <td>33.245826</td>\n",
       "      <td>242526.563707</td>\n",
       "    </tr>\n",
       "    <tr>\n",
       "      <th>bbox</th>\n",
       "      <td>25.997579</td>\n",
       "      <td>26.016255</td>\n",
       "      <td>26.463915</td>\n",
       "      <td>25.532606</td>\n",
       "      <td>97324.401544</td>\n",
       "    </tr>\n",
       "  </tbody>\n",
       "</table>\n",
       "</div>"
      ],
      "text/plain": [
       "           close       open       high        low         volume\n",
       "dgica  14.986583  14.986066  15.206610  14.742745   27233.783784\n",
       "bdge   24.120351  24.118892  24.400737  23.828386   20277.953668\n",
       "cvco   53.365436  53.362023  54.303954  52.433988   40272.393822\n",
       "blkb   33.755378  33.719023  34.185849  33.245826  242526.563707\n",
       "bbox   25.997579  26.016255  26.463915  25.532606   97324.401544"
      ]
     },
     "execution_count": 6,
     "metadata": {},
     "output_type": "execute_result"
    }
   ],
   "source": [
    "stock_mean_df = pd.DataFrame(stock_mean_dict).T\n",
    "stock_mean_df.head()"
   ]
  },
  {
   "cell_type": "code",
   "execution_count": 7,
   "metadata": {},
   "outputs": [],
   "source": [
    "def color_text(color, text):\n",
    "    return f'<span style=\\\"color:{color}\\\">{text}</span>'"
   ]
  },
  {
   "cell_type": "code",
   "execution_count": 8,
   "metadata": {},
   "outputs": [
    {
     "data": {
      "text/markdown": [
       "Comparing all stock closing prices:"
      ],
      "text/plain": [
       "<IPython.core.display.Markdown object>"
      ]
     },
     "metadata": {},
     "output_type": "display_data"
    },
    {
     "data": {
      "text/markdown": [
       "**amzn** stock has the maximum average closing price of <span style=\"color:green\">275.13</span>"
      ],
      "text/plain": [
       "<IPython.core.display.Markdown object>"
      ]
     },
     "metadata": {},
     "output_type": "display_data"
    },
    {
     "data": {
      "text/markdown": [
       "**blfs** stock is on the other end with average closing price of <span style=\"color:red\">0.81</span>"
      ],
      "text/plain": [
       "<IPython.core.display.Markdown object>"
      ]
     },
     "metadata": {},
     "output_type": "display_data"
    }
   ],
   "source": [
    "stock_idx_max = stock_mean_df[\"close\"].idxmax()\n",
    "stock_idx_min = stock_mean_df[\"close\"].idxmin()\n",
    "\n",
    "rounded_price_max = round(stock_mean_df.loc[stock_idx_max]['close'], 2)\n",
    "rounded_price_min = round(stock_mean_df.loc[stock_idx_min]['close'], 2)\n",
    "\n",
    "stock_message_1 = f\"**{stock_idx_max}** stock has the maximum average closing price of {color_text('green', rounded_price_max)}\"\n",
    "stock_message_2 = f\"**{stock_idx_min}** stock is on the other end with average closing price of {color_text('red', rounded_price_min)}\"\n",
    "\n",
    "display(Markdown(\"Comparing all stock closing prices:\"))\n",
    "display(Markdown(stock_message_1))\n",
    "display(Markdown(stock_message_2))"
   ]
  },
  {
   "cell_type": "code",
   "execution_count": 9,
   "metadata": {},
   "outputs": [],
   "source": [
    "# vol_stk_pair_dict = {}\n",
    "# for stock in prices_df_dict.keys():\n",
    "#     df = prices_df_dict[stock]\n",
    "#     df_grouped = df.groupby(by=[\"date\"]).sum()[\"volume\"]\n",
    "#     df_grouped_vol = pd.DataFrame(df_grouped)\n",
    "#     df_grouped_vol[f\"vol-stk-{stock}\"] = [(volume, stock) for volume in df_grouped_vol[\"volume\"] ]\n",
    "#     df_grouped_vol = df_grouped_vol.drop(\"volume\", axis=1)\n",
    "#     vol_stk_pair_dict[stock] = df_grouped_vol\n",
    "    \n",
    "    \n",
    "# merged_df = pd.DataFrame()\n",
    "# for stock in vol_stk_pair_dict.keys():\n",
    "#     current_df = vol_stk_pair_dict[stock]\n",
    "#     merged_df= merged_df.merge(current_df, left_index=True, right_index=True, how=\"outer\")"
   ]
  },
  {
   "cell_type": "code",
   "execution_count": 10,
   "metadata": {},
   "outputs": [],
   "source": [
    "def create_volume_stock_pair_dict(prices_df_dict):\n",
    "    \"\"\"\n",
    "    Parameters: \n",
    "        prices_df_dict -- dictionary containing stock symbol as key and the dataframed values for that stock as values\n",
    "    Output:\n",
    "        vol_stk_pair_dict -- a dictionary with stock symbol as key and the df containing data with the format (volume, stock)\n",
    "    \"\"\"\n",
    "    print(\"Creating volumes dictionary\", end=\"::\")\n",
    "    vol_stk_pair_dict = {}\n",
    "    stock_counter = 0\n",
    "    for stock in prices_df_dict.keys():\n",
    "        df = prices_df_dict[stock]\n",
    "        df_grouped = df.groupby(by=[\"date\"]).sum()[\"volume\"]\n",
    "        df_grouped_vol = pd.DataFrame(df_grouped)\n",
    "        \n",
    "        df_grouped_vol[f\"vol-stk-{stock}\"] = [(volume, stock) if volume !=0 else None for volume in df_grouped_vol[\"volume\"]]\n",
    "        \n",
    "        df_grouped_vol = df_grouped_vol.drop(\"volume\", axis=1)\n",
    "        vol_stk_pair_dict[stock] = df_grouped_vol\n",
    "        \n",
    "        if stock_counter%100==0:\n",
    "            print(\".\", end=\"\")\n",
    "        stock_counter += 1\n",
    "        \n",
    "    return vol_stk_pair_dict\n",
    "\n",
    "\n",
    "def merge_dataframes(vol_stk_pair_dict):\n",
    "    \"\"\"\n",
    "    Parameters:\n",
    "    vol_stk_pair_dict -- a dictionary with stock symbol as key and the df containing data with the format (volume, stock)\n",
    "    \n",
    "    Output:\n",
    "    merged_df -- All the dataframes merged by index using outer join\n",
    "    \"\"\"\n",
    "    merged_df = pd.DataFrame()\n",
    "    stock_counter = 0\n",
    "    print(\"Merging all dataframes in volumes dictionary into a single dataframe\", end=\"::\")\n",
    "    for stock in vol_stk_pair_dict.keys():\n",
    "        current_df = vol_stk_pair_dict[stock]\n",
    "        merged_df = merged_df.merge(current_df, left_index=True, right_index=True, how=\"outer\")\n",
    "        \n",
    "        if stock_counter%100==0:\n",
    "            print(\".\", end=\"\")\n",
    "        stock_counter += 1\n",
    "        \n",
    "    return merged_df"
   ]
  },
  {
   "cell_type": "code",
   "execution_count": 11,
   "metadata": {},
   "outputs": [],
   "source": [
    "def get_volume(df, date, stock_symbol):\n",
    "    volume_series = df[df[\"date\"]==date][\"volume\"]\n",
    "    vol_stock_pair_list = []\n",
    "    for vol in volume_series:\n",
    "        vol_stock_pair_list.append((vol, stock_symbol))\n",
    "    return vol_stock_pair_list\n",
    "\n",
    "def get_day_trades(dict_name):\n",
    "    '''\n",
    "    Do NOT use. Too much nested for-loops. =p\n",
    "    Output: Returns a dictionary\n",
    "    '''\n",
    "    dict_days_trades = {}\n",
    "    for stock in dict_name.keys():\n",
    "        df = dict_name[stock]\n",
    "        for date in df[\"date\"].unique():\n",
    "            dict_days_trades[date] = get_volume(df, date, stock)\n",
    "\n",
    "    return dict_days_trades"
   ]
  },
  {
   "cell_type": "code",
   "execution_count": 12,
   "metadata": {},
   "outputs": [
    {
     "name": "stdout",
     "output_type": "stream",
     "text": [
      "............"
     ]
    },
    {
     "data": {
      "text/html": [
       "<div>\n",
       "<style scoped>\n",
       "    .dataframe tbody tr th:only-of-type {\n",
       "        vertical-align: middle;\n",
       "    }\n",
       "\n",
       "    .dataframe tbody tr th {\n",
       "        vertical-align: top;\n",
       "    }\n",
       "\n",
       "    .dataframe thead th {\n",
       "        text-align: right;\n",
       "    }\n",
       "</style>\n",
       "<table border=\"1\" class=\"dataframe\">\n",
       "  <thead>\n",
       "    <tr style=\"text-align: right;\">\n",
       "      <th></th>\n",
       "      <th>vol-stk-dgica</th>\n",
       "      <th>vol-stk-bdge</th>\n",
       "      <th>vol-stk-cvco</th>\n",
       "      <th>vol-stk-blkb</th>\n",
       "      <th>vol-stk-bbox</th>\n",
       "      <th>vol-stk-ffbc</th>\n",
       "      <th>vol-stk-fbiz</th>\n",
       "      <th>vol-stk-ffic</th>\n",
       "      <th>vol-stk-bdsi</th>\n",
       "      <th>vol-stk-amgn</th>\n",
       "      <th>...</th>\n",
       "      <th>vol-stk-anat</th>\n",
       "      <th>vol-stk-bbh</th>\n",
       "      <th>vol-stk-aiq</th>\n",
       "      <th>vol-stk-colb</th>\n",
       "      <th>vol-stk-bbsi</th>\n",
       "      <th>vol-stk-banr</th>\n",
       "      <th>vol-stk-anss</th>\n",
       "      <th>vol-stk-dynt</th>\n",
       "      <th>vol-stk-eng</th>\n",
       "      <th>vol-stk-flic</th>\n",
       "    </tr>\n",
       "    <tr>\n",
       "      <th>date</th>\n",
       "      <th></th>\n",
       "      <th></th>\n",
       "      <th></th>\n",
       "      <th></th>\n",
       "      <th></th>\n",
       "      <th></th>\n",
       "      <th></th>\n",
       "      <th></th>\n",
       "      <th></th>\n",
       "      <th></th>\n",
       "      <th></th>\n",
       "      <th></th>\n",
       "      <th></th>\n",
       "      <th></th>\n",
       "      <th></th>\n",
       "      <th></th>\n",
       "      <th></th>\n",
       "      <th></th>\n",
       "      <th></th>\n",
       "      <th></th>\n",
       "      <th></th>\n",
       "    </tr>\n",
       "  </thead>\n",
       "  <tbody>\n",
       "    <tr>\n",
       "      <th>2007-01-03</th>\n",
       "      <td>(30100, dgica)</td>\n",
       "      <td>(100, bdge)</td>\n",
       "      <td>(36500, cvco)</td>\n",
       "      <td>(365800, blkb)</td>\n",
       "      <td>(108200, bbox)</td>\n",
       "      <td>(192600, ffbc)</td>\n",
       "      <td>(400, fbiz)</td>\n",
       "      <td>(46300, ffic)</td>\n",
       "      <td>(29500, bdsi)</td>\n",
       "      <td>(12908400, amgn)</td>\n",
       "      <td>...</td>\n",
       "      <td>(7600, anat)</td>\n",
       "      <td>(1002900, bbh)</td>\n",
       "      <td>(39400, aiq)</td>\n",
       "      <td>(108700, colb)</td>\n",
       "      <td>(76100, bbsi)</td>\n",
       "      <td>(5900, banr)</td>\n",
       "      <td>(1159800, anss)</td>\n",
       "      <td>(1100, dynt)</td>\n",
       "      <td>(162200, eng)</td>\n",
       "      <td>(57900, flic)</td>\n",
       "    </tr>\n",
       "    <tr>\n",
       "      <th>2007-01-04</th>\n",
       "      <td>(16800, dgica)</td>\n",
       "      <td>(1300, bdge)</td>\n",
       "      <td>(18500, cvco)</td>\n",
       "      <td>(287500, blkb)</td>\n",
       "      <td>(91800, bbox)</td>\n",
       "      <td>(177600, ffbc)</td>\n",
       "      <td>None</td>\n",
       "      <td>(48900, ffic)</td>\n",
       "      <td>(23300, bdsi)</td>\n",
       "      <td>(16000900, amgn)</td>\n",
       "      <td>...</td>\n",
       "      <td>(1600, anat)</td>\n",
       "      <td>(1638900, bbh)</td>\n",
       "      <td>(44900, aiq)</td>\n",
       "      <td>(186000, colb)</td>\n",
       "      <td>(27500, bbsi)</td>\n",
       "      <td>(7000, banr)</td>\n",
       "      <td>(1238200, anss)</td>\n",
       "      <td>(2700, dynt)</td>\n",
       "      <td>(127400, eng)</td>\n",
       "      <td>(5700, flic)</td>\n",
       "    </tr>\n",
       "    <tr>\n",
       "      <th>2007-01-05</th>\n",
       "      <td>(27700, dgica)</td>\n",
       "      <td>(2200, bdge)</td>\n",
       "      <td>(30400, cvco)</td>\n",
       "      <td>(251200, blkb)</td>\n",
       "      <td>(125100, bbox)</td>\n",
       "      <td>(165200, ffbc)</td>\n",
       "      <td>None</td>\n",
       "      <td>(52600, ffic)</td>\n",
       "      <td>(73400, bdsi)</td>\n",
       "      <td>(10462000, amgn)</td>\n",
       "      <td>...</td>\n",
       "      <td>(7100, anat)</td>\n",
       "      <td>(699900, bbh)</td>\n",
       "      <td>(38100, aiq)</td>\n",
       "      <td>(141700, colb)</td>\n",
       "      <td>(32400, bbsi)</td>\n",
       "      <td>(5000, banr)</td>\n",
       "      <td>(851600, anss)</td>\n",
       "      <td>(3500, dynt)</td>\n",
       "      <td>(179900, eng)</td>\n",
       "      <td>(600, flic)</td>\n",
       "    </tr>\n",
       "    <tr>\n",
       "      <th>2007-01-08</th>\n",
       "      <td>(30300, dgica)</td>\n",
       "      <td>(4700, bdge)</td>\n",
       "      <td>(29500, cvco)</td>\n",
       "      <td>(180600, blkb)</td>\n",
       "      <td>(91000, bbox)</td>\n",
       "      <td>(140400, ffbc)</td>\n",
       "      <td>(3200, fbiz)</td>\n",
       "      <td>(81900, ffic)</td>\n",
       "      <td>(10600, bdsi)</td>\n",
       "      <td>(6747100, amgn)</td>\n",
       "      <td>...</td>\n",
       "      <td>(1200, anat)</td>\n",
       "      <td>(524400, bbh)</td>\n",
       "      <td>(99200, aiq)</td>\n",
       "      <td>(50000, colb)</td>\n",
       "      <td>(31700, bbsi)</td>\n",
       "      <td>(2100, banr)</td>\n",
       "      <td>(1249800, anss)</td>\n",
       "      <td>(300, dynt)</td>\n",
       "      <td>(123500, eng)</td>\n",
       "      <td>None</td>\n",
       "    </tr>\n",
       "    <tr>\n",
       "      <th>2007-01-09</th>\n",
       "      <td>(37800, dgica)</td>\n",
       "      <td>(3000, bdge)</td>\n",
       "      <td>(22800, cvco)</td>\n",
       "      <td>(529900, blkb)</td>\n",
       "      <td>(203600, bbox)</td>\n",
       "      <td>(90700, ffbc)</td>\n",
       "      <td>(13600, fbiz)</td>\n",
       "      <td>(105100, ffic)</td>\n",
       "      <td>(24200, bdsi)</td>\n",
       "      <td>(7165200, amgn)</td>\n",
       "      <td>...</td>\n",
       "      <td>(2200, anat)</td>\n",
       "      <td>(1059000, bbh)</td>\n",
       "      <td>(29900, aiq)</td>\n",
       "      <td>(49100, colb)</td>\n",
       "      <td>(22200, bbsi)</td>\n",
       "      <td>(3600, banr)</td>\n",
       "      <td>(408400, anss)</td>\n",
       "      <td>(500, dynt)</td>\n",
       "      <td>(173200, eng)</td>\n",
       "      <td>(6900, flic)</td>\n",
       "    </tr>\n",
       "  </tbody>\n",
       "</table>\n",
       "<p>5 rows × 560 columns</p>\n",
       "</div>"
      ],
      "text/plain": [
       "             vol-stk-dgica  vol-stk-bdge   vol-stk-cvco    vol-stk-blkb  \\\n",
       "date                                                                      \n",
       "2007-01-03  (30100, dgica)   (100, bdge)  (36500, cvco)  (365800, blkb)   \n",
       "2007-01-04  (16800, dgica)  (1300, bdge)  (18500, cvco)  (287500, blkb)   \n",
       "2007-01-05  (27700, dgica)  (2200, bdge)  (30400, cvco)  (251200, blkb)   \n",
       "2007-01-08  (30300, dgica)  (4700, bdge)  (29500, cvco)  (180600, blkb)   \n",
       "2007-01-09  (37800, dgica)  (3000, bdge)  (22800, cvco)  (529900, blkb)   \n",
       "\n",
       "              vol-stk-bbox    vol-stk-ffbc   vol-stk-fbiz    vol-stk-ffic  \\\n",
       "date                                                                        \n",
       "2007-01-03  (108200, bbox)  (192600, ffbc)    (400, fbiz)   (46300, ffic)   \n",
       "2007-01-04   (91800, bbox)  (177600, ffbc)           None   (48900, ffic)   \n",
       "2007-01-05  (125100, bbox)  (165200, ffbc)           None   (52600, ffic)   \n",
       "2007-01-08   (91000, bbox)  (140400, ffbc)   (3200, fbiz)   (81900, ffic)   \n",
       "2007-01-09  (203600, bbox)   (90700, ffbc)  (13600, fbiz)  (105100, ffic)   \n",
       "\n",
       "             vol-stk-bdsi      vol-stk-amgn  ...  vol-stk-anat  \\\n",
       "date                                         ...                 \n",
       "2007-01-03  (29500, bdsi)  (12908400, amgn)  ...  (7600, anat)   \n",
       "2007-01-04  (23300, bdsi)  (16000900, amgn)  ...  (1600, anat)   \n",
       "2007-01-05  (73400, bdsi)  (10462000, amgn)  ...  (7100, anat)   \n",
       "2007-01-08  (10600, bdsi)   (6747100, amgn)  ...  (1200, anat)   \n",
       "2007-01-09  (24200, bdsi)   (7165200, amgn)  ...  (2200, anat)   \n",
       "\n",
       "               vol-stk-bbh   vol-stk-aiq    vol-stk-colb   vol-stk-bbsi  \\\n",
       "date                                                                      \n",
       "2007-01-03  (1002900, bbh)  (39400, aiq)  (108700, colb)  (76100, bbsi)   \n",
       "2007-01-04  (1638900, bbh)  (44900, aiq)  (186000, colb)  (27500, bbsi)   \n",
       "2007-01-05   (699900, bbh)  (38100, aiq)  (141700, colb)  (32400, bbsi)   \n",
       "2007-01-08   (524400, bbh)  (99200, aiq)   (50000, colb)  (31700, bbsi)   \n",
       "2007-01-09  (1059000, bbh)  (29900, aiq)   (49100, colb)  (22200, bbsi)   \n",
       "\n",
       "            vol-stk-banr     vol-stk-anss  vol-stk-dynt    vol-stk-eng  \\\n",
       "date                                                                     \n",
       "2007-01-03  (5900, banr)  (1159800, anss)  (1100, dynt)  (162200, eng)   \n",
       "2007-01-04  (7000, banr)  (1238200, anss)  (2700, dynt)  (127400, eng)   \n",
       "2007-01-05  (5000, banr)   (851600, anss)  (3500, dynt)  (179900, eng)   \n",
       "2007-01-08  (2100, banr)  (1249800, anss)   (300, dynt)  (123500, eng)   \n",
       "2007-01-09  (3600, banr)   (408400, anss)   (500, dynt)  (173200, eng)   \n",
       "\n",
       "             vol-stk-flic  \n",
       "date                       \n",
       "2007-01-03  (57900, flic)  \n",
       "2007-01-04   (5700, flic)  \n",
       "2007-01-05    (600, flic)  \n",
       "2007-01-08           None  \n",
       "2007-01-09   (6900, flic)  \n",
       "\n",
       "[5 rows x 560 columns]"
      ]
     },
     "execution_count": 12,
     "metadata": {},
     "output_type": "execute_result"
    }
   ],
   "source": [
    "vol_stk_pair_dict = create_volume_stock_pair_dict(prices_df_dict)\n",
    "\n",
    "merged_df = merge_dataframes(vol_stk_pair_dict)\n",
    "\n",
    "merged_df.head()"
   ]
  },
  {
   "cell_type": "code",
   "execution_count": 13,
   "metadata": {},
   "outputs": [],
   "source": [
    "def rename_columns_volume_stk_pair(df):\n",
    "    new_col_names = []\n",
    "    for col_name in df.columns:\n",
    "        if \"vol-stk-\" in col_name:\n",
    "            new_col = col_name.split(\"vol-stk-\")[1]\n",
    "        else:\n",
    "            new_col = col_name\n",
    "        new_col_names.append(new_col)\n",
    "        \n",
    "    df.columns = new_col_names"
   ]
  },
  {
   "cell_type": "markdown",
   "metadata": {},
   "source": [
    "Create a column containing an array of all (volume, stock) tuple for each day."
   ]
  },
  {
   "cell_type": "code",
   "execution_count": 14,
   "metadata": {},
   "outputs": [
    {
     "data": {
      "text/plain": [
       "date\n",
       "2007-01-03    [(30100, dgica), (100, bdge), (36500, cvco), (...\n",
       "2007-01-04    [(16800, dgica), (1300, bdge), (18500, cvco), ...\n",
       "2007-01-05    [(27700, dgica), (2200, bdge), (30400, cvco), ...\n",
       "2007-01-08    [(30300, dgica), (4700, bdge), (29500, cvco), ...\n",
       "2007-01-09    [(37800, dgica), (3000, bdge), (22800, cvco), ...\n",
       "Name: combined_volumes, dtype: object"
      ]
     },
     "execution_count": 14,
     "metadata": {},
     "output_type": "execute_result"
    }
   ],
   "source": [
    "# Rename the columns to the stock symbol\n",
    "rename_columns_volume_stk_pair(merged_df)\n",
    "\n",
    "# Combine all the volume-stock symbol pair data for each day into a single column\n",
    "merged_df[\"combined_volumes\"] = merged_df.apply(lambda row: row.dropna().to_list(), axis= 1 )\n",
    "merged_df[\"combined_volumes\"].head()"
   ]
  },
  {
   "cell_type": "markdown",
   "metadata": {},
   "source": [
    "Inspect the traded volume and stocks array for a specific date"
   ]
  },
  {
   "cell_type": "code",
   "execution_count": 15,
   "metadata": {},
   "outputs": [
    {
     "data": {
      "text/plain": [
       "[(30100, 'dgica'),\n",
       " (100, 'bdge'),\n",
       " (36500, 'cvco'),\n",
       " (365800, 'blkb'),\n",
       " (108200, 'bbox'),\n",
       " (192600, 'ffbc'),\n",
       " (400, 'fbiz'),\n",
       " (46300, 'ffic'),\n",
       " (29500, 'bdsi'),\n",
       " (12908400, 'amgn')]"
      ]
     },
     "execution_count": 15,
     "metadata": {},
     "output_type": "execute_result"
    }
   ],
   "source": [
    "merged_df[\"combined_volumes\"].loc[\"2007-01-03\"][:10]"
   ]
  },
  {
   "cell_type": "code",
   "execution_count": 16,
   "metadata": {},
   "outputs": [],
   "source": [
    "# Create a function that will return tuple with the maximum volume traded for each day\n",
    "def max_first_element(tuples_array):\n",
    "    if tuples_array:\n",
    "        return max(tuples_array, key=lambda x: x[0])\n",
    "    else:\n",
    "        return None"
   ]
  },
  {
   "cell_type": "markdown",
   "metadata": {},
   "source": [
    "Find the stock with the largest volume traded for each day"
   ]
  },
  {
   "cell_type": "code",
   "execution_count": 17,
   "metadata": {},
   "outputs": [],
   "source": [
    "merged_df['hot'] = merged_df[\"combined_volumes\"].apply(max_first_element)"
   ]
  },
  {
   "cell_type": "code",
   "execution_count": 18,
   "metadata": {},
   "outputs": [
    {
     "data": {
      "text/plain": [
       "date\n",
       "2007-01-03    (309579900, aapl)\n",
       "2007-01-04    (211815100, aapl)\n",
       "2007-01-05    (208685400, aapl)\n",
       "2007-01-08    (199276700, aapl)\n",
       "2007-01-09    (837324600, aapl)\n",
       "Name: hot, dtype: object"
      ]
     },
     "execution_count": 18,
     "metadata": {},
     "output_type": "execute_result"
    }
   ],
   "source": [
    "merged_df['hot'].head()"
   ]
  },
  {
   "cell_type": "code",
   "execution_count": null,
   "metadata": {},
   "outputs": [],
   "source": []
  }
 ],
 "metadata": {
  "kernelspec": {
   "display_name": "Python 3",
   "language": "python",
   "name": "python3"
  },
  "language_info": {
   "codemirror_mode": {
    "name": "ipython",
    "version": 3
   },
   "file_extension": ".py",
   "mimetype": "text/x-python",
   "name": "python",
   "nbconvert_exporter": "python",
   "pygments_lexer": "ipython3",
   "version": "3.8.2"
  }
 },
 "nbformat": 4,
 "nbformat_minor": 1
}
