{
 "cells": [
  {
   "cell_type": "markdown",
   "metadata": {},
   "source": [
    "The objective of this guided project is to demonstrate the data cleaning techniques.\n",
    "We will be using the exit surveys from employees of the <em>Department of Education Training and Employment (DETE)</em> and the <em>Technical and Further Education (TAFE) instute </em> in Queensland, Australia. <br>\n",
    "\n",
    "We will answer the question: <br> \n",
    "<ul>\n",
    "<li> <em>Are employees who have only worked for the institutes for a short period of time resigning due to some kind of dissatisfaction? </em> </li>\n",
    "    <li> <em>What about employees who have been at the job longer? </em> </li>\n",
    "</ul>\n",
    "\n",
    "To achieve this we will: <br>\n",
    "1. Cleanup and combine the two datasets\n",
    "2. Define and categorize how long the employee was with the institute\n",
    "3. Identify the resignations caused by some kind of dissatisfaction\n",
    "4. Analyze the data"
   ]
  },
  {
   "cell_type": "code",
   "execution_count": 1,
   "metadata": {},
   "outputs": [],
   "source": [
    "# Import libraries\n",
    "import pandas as pd\n",
    "import numpy as np\n",
    "import seaborn as sns\n",
    "import matplotlib.pyplot as plt\n",
    "import matplotlib.patches as mpatches\n",
    "\n",
    "%matplotlib inline\n"
   ]
  },
  {
   "cell_type": "code",
   "execution_count": 2,
   "metadata": {},
   "outputs": [],
   "source": [
    "dete_survey = pd.read_csv('dete_survey.csv', na_values=['Not Stated','-'], keep_default_na=True)\n",
    "tafe_survey = pd.read_csv('tafe_survey.csv', na_values=['Not Stated','-'], keep_default_na=True)"
   ]
  },
  {
   "cell_type": "markdown",
   "metadata": {},
   "source": [
    "<div style=\"color:gray\">\n",
    "    <h3>I. Cleanup and combine the two datasets </h3>\n",
    "    </div>"
   ]
  },
  {
   "cell_type": "code",
   "execution_count": 3,
   "metadata": {},
   "outputs": [
    {
     "name": "stdout",
     "output_type": "stream",
     "text": [
      "<class 'pandas.core.frame.DataFrame'>\n",
      "RangeIndex: 822 entries, 0 to 821\n",
      "Data columns (total 56 columns):\n",
      " #   Column                               Non-Null Count  Dtype  \n",
      "---  ------                               --------------  -----  \n",
      " 0   ID                                   822 non-null    int64  \n",
      " 1   SeparationType                       822 non-null    object \n",
      " 2   Cease Date                           788 non-null    object \n",
      " 3   DETE Start Date                      749 non-null    float64\n",
      " 4   Role Start Date                      724 non-null    float64\n",
      " 5   Position                             817 non-null    object \n",
      " 6   Classification                       455 non-null    object \n",
      " 7   Region                               717 non-null    object \n",
      " 8   Business Unit                        126 non-null    object \n",
      " 9   Employment Status                    817 non-null    object \n",
      " 10  Career move to public sector         822 non-null    bool   \n",
      " 11  Career move to private sector        822 non-null    bool   \n",
      " 12  Interpersonal conflicts              822 non-null    bool   \n",
      " 13  Job dissatisfaction                  822 non-null    bool   \n",
      " 14  Dissatisfaction with the department  822 non-null    bool   \n",
      " 15  Physical work environment            822 non-null    bool   \n",
      " 16  Lack of recognition                  822 non-null    bool   \n",
      " 17  Lack of job security                 822 non-null    bool   \n",
      " 18  Work location                        822 non-null    bool   \n",
      " 19  Employment conditions                822 non-null    bool   \n",
      " 20  Maternity/family                     822 non-null    bool   \n",
      " 21  Relocation                           822 non-null    bool   \n",
      " 22  Study/Travel                         822 non-null    bool   \n",
      " 23  Ill Health                           822 non-null    bool   \n",
      " 24  Traumatic incident                   822 non-null    bool   \n",
      " 25  Work life balance                    822 non-null    bool   \n",
      " 26  Workload                             822 non-null    bool   \n",
      " 27  None of the above                    822 non-null    bool   \n",
      " 28  Professional Development             808 non-null    object \n",
      " 29  Opportunities for promotion          735 non-null    object \n",
      " 30  Staff morale                         816 non-null    object \n",
      " 31  Workplace issue                      788 non-null    object \n",
      " 32  Physical environment                 817 non-null    object \n",
      " 33  Worklife balance                     815 non-null    object \n",
      " 34  Stress and pressure support          810 non-null    object \n",
      " 35  Performance of supervisor            813 non-null    object \n",
      " 36  Peer support                         812 non-null    object \n",
      " 37  Initiative                           813 non-null    object \n",
      " 38  Skills                               811 non-null    object \n",
      " 39  Coach                                767 non-null    object \n",
      " 40  Career Aspirations                   746 non-null    object \n",
      " 41  Feedback                             792 non-null    object \n",
      " 42  Further PD                           768 non-null    object \n",
      " 43  Communication                        814 non-null    object \n",
      " 44  My say                               812 non-null    object \n",
      " 45  Information                          816 non-null    object \n",
      " 46  Kept informed                        813 non-null    object \n",
      " 47  Wellness programs                    766 non-null    object \n",
      " 48  Health & Safety                      793 non-null    object \n",
      " 49  Gender                               798 non-null    object \n",
      " 50  Age                                  811 non-null    object \n",
      " 51  Aboriginal                           16 non-null     object \n",
      " 52  Torres Strait                        3 non-null      object \n",
      " 53  South Sea                            7 non-null      object \n",
      " 54  Disability                           23 non-null     object \n",
      " 55  NESB                                 32 non-null     object \n",
      "dtypes: bool(18), float64(2), int64(1), object(35)\n",
      "memory usage: 258.6+ KB\n"
     ]
    }
   ],
   "source": [
    "dete_survey.info()"
   ]
  },
  {
   "cell_type": "code",
   "execution_count": 4,
   "metadata": {},
   "outputs": [
    {
     "name": "stdout",
     "output_type": "stream",
     "text": [
      "<class 'pandas.core.frame.DataFrame'>\n",
      "RangeIndex: 702 entries, 0 to 701\n",
      "Data columns (total 72 columns):\n",
      " #   Column                                                                                                                                                         Non-Null Count  Dtype  \n",
      "---  ------                                                                                                                                                         --------------  -----  \n",
      " 0   Record ID                                                                                                                                                      702 non-null    float64\n",
      " 1   Institute                                                                                                                                                      702 non-null    object \n",
      " 2   WorkArea                                                                                                                                                       702 non-null    object \n",
      " 3   CESSATION YEAR                                                                                                                                                 695 non-null    float64\n",
      " 4   Reason for ceasing employment                                                                                                                                  701 non-null    object \n",
      " 5   Contributing Factors. Career Move - Public Sector                                                                                                              62 non-null     object \n",
      " 6   Contributing Factors. Career Move - Private Sector                                                                                                             101 non-null    object \n",
      " 7   Contributing Factors. Career Move - Self-employment                                                                                                            17 non-null     object \n",
      " 8   Contributing Factors. Ill Health                                                                                                                               34 non-null     object \n",
      " 9   Contributing Factors. Maternity/Family                                                                                                                         26 non-null     object \n",
      " 10  Contributing Factors. Dissatisfaction                                                                                                                          66 non-null     object \n",
      " 11  Contributing Factors. Job Dissatisfaction                                                                                                                      77 non-null     object \n",
      " 12  Contributing Factors. Interpersonal Conflict                                                                                                                   27 non-null     object \n",
      " 13  Contributing Factors. Study                                                                                                                                    16 non-null     object \n",
      " 14  Contributing Factors. Travel                                                                                                                                   22 non-null     object \n",
      " 15  Contributing Factors. Other                                                                                                                                    106 non-null    object \n",
      " 16  Contributing Factors. NONE                                                                                                                                     46 non-null     object \n",
      " 17  Main Factor. Which of these was the main factor for leaving?                                                                                                   113 non-null    object \n",
      " 18  InstituteViews. Topic:1. I feel the senior leadership had a clear vision and direction                                                                         608 non-null    object \n",
      " 19  InstituteViews. Topic:2. I was given access to skills training to help me do my job better                                                                     613 non-null    object \n",
      " 20  InstituteViews. Topic:3. I was given adequate opportunities for personal development                                                                           610 non-null    object \n",
      " 21  InstituteViews. Topic:4. I was given adequate opportunities for promotion within %Institute]Q25LBL%                                                            608 non-null    object \n",
      " 22  InstituteViews. Topic:5. I felt the salary for the job was right for the responsibilities I had                                                                615 non-null    object \n",
      " 23  InstituteViews. Topic:6. The organisation recognised when staff did good work                                                                                  607 non-null    object \n",
      " 24  InstituteViews. Topic:7. Management was generally supportive of me                                                                                             614 non-null    object \n",
      " 25  InstituteViews. Topic:8. Management was generally supportive of my team                                                                                        608 non-null    object \n",
      " 26  InstituteViews. Topic:9. I was kept informed of the changes in the organisation which would affect me                                                          610 non-null    object \n",
      " 27  InstituteViews. Topic:10. Staff morale was positive within the Institute                                                                                       602 non-null    object \n",
      " 28  InstituteViews. Topic:11. If I had a workplace issue it was dealt with quickly                                                                                 601 non-null    object \n",
      " 29  InstituteViews. Topic:12. If I had a workplace issue it was dealt with efficiently                                                                             597 non-null    object \n",
      " 30  InstituteViews. Topic:13. If I had a workplace issue it was dealt with discreetly                                                                              601 non-null    object \n",
      " 31  WorkUnitViews. Topic:14. I was satisfied with the quality of the management and supervision within my work unit                                                609 non-null    object \n",
      " 32  WorkUnitViews. Topic:15. I worked well with my colleagues                                                                                                      605 non-null    object \n",
      " 33  WorkUnitViews. Topic:16. My job was challenging and interesting                                                                                                607 non-null    object \n",
      " 34  WorkUnitViews. Topic:17. I was encouraged to use my initiative in the course of my work                                                                        610 non-null    object \n",
      " 35  WorkUnitViews. Topic:18. I had sufficient contact with other people in my job                                                                                  613 non-null    object \n",
      " 36  WorkUnitViews. Topic:19. I was given adequate support and co-operation by my peers to enable me to do my job                                                   609 non-null    object \n",
      " 37  WorkUnitViews. Topic:20. I was able to use the full range of my skills in my job                                                                               609 non-null    object \n",
      " 38  WorkUnitViews. Topic:21. I was able to use the full range of my abilities in my job. ; Category:Level of Agreement; Question:YOUR VIEWS ABOUT YOUR WORK UNIT]  608 non-null    object \n",
      " 39  WorkUnitViews. Topic:22. I was able to use the full range of my knowledge in my job                                                                            608 non-null    object \n",
      " 40  WorkUnitViews. Topic:23. My job provided sufficient variety                                                                                                    611 non-null    object \n",
      " 41  WorkUnitViews. Topic:24. I was able to cope with the level of stress and pressure in my job                                                                    610 non-null    object \n",
      " 42  WorkUnitViews. Topic:25. My job allowed me to balance the demands of work and family to my satisfaction                                                        611 non-null    object \n",
      " 43  WorkUnitViews. Topic:26. My supervisor gave me adequate personal recognition and feedback on my performance                                                    606 non-null    object \n",
      " 44  WorkUnitViews. Topic:27. My working environment was satisfactory e.g. sufficient space, good lighting, suitable seating and working area                       610 non-null    object \n",
      " 45  WorkUnitViews. Topic:28. I was given the opportunity to mentor and coach others in order for me to pass on my skills and knowledge prior to my cessation date  609 non-null    object \n",
      " 46  WorkUnitViews. Topic:29. There was adequate communication between staff in my unit                                                                             603 non-null    object \n",
      " 47  WorkUnitViews. Topic:30. Staff morale was positive within my work unit                                                                                         606 non-null    object \n",
      " 48  Induction. Did you undertake Workplace Induction?                                                                                                              619 non-null    object \n",
      " 49  InductionInfo. Topic:Did you undertake a Corporate Induction?                                                                                                  432 non-null    object \n",
      " 50  InductionInfo. Topic:Did you undertake a Institute Induction?                                                                                                  483 non-null    object \n",
      " 51  InductionInfo. Topic: Did you undertake Team Induction?                                                                                                        440 non-null    object \n",
      " 52  InductionInfo. Face to Face Topic:Did you undertake a Corporate Induction; Category:How it was conducted?                                                      143 non-null    object \n",
      " 53  InductionInfo. On-line Topic:Did you undertake a Corporate Induction; Category:How it was conducted?                                                           53 non-null     object \n",
      " 54  InductionInfo. Induction Manual Topic:Did you undertake a Corporate Induction?                                                                                 16 non-null     object \n",
      " 55  InductionInfo. Face to Face Topic:Did you undertake a Institute Induction?                                                                                     260 non-null    object \n",
      " 56  InductionInfo. On-line Topic:Did you undertake a Institute Induction?                                                                                          82 non-null     object \n",
      " 57  InductionInfo. Induction Manual Topic:Did you undertake a Institute Induction?                                                                                 35 non-null     object \n",
      " 58  InductionInfo. Face to Face Topic: Did you undertake Team Induction; Category?                                                                                 189 non-null    object \n",
      " 59  InductionInfo. On-line Topic: Did you undertake Team Induction?process you undertook and how it was conducted.]                                                0 non-null      float64\n",
      " 60  InductionInfo. Induction Manual Topic: Did you undertake Team Induction?                                                                                       14 non-null     object \n",
      " 61  Workplace. Topic:Did you and your Manager develop a Performance and Professional Development Plan (PPDP)?                                                      608 non-null    object \n",
      " 62  Workplace. Topic:Does your workplace promote a work culture free from all forms of unlawful discrimination?                                                    594 non-null    object \n",
      " 63  Workplace. Topic:Does your workplace promote and practice the principles of employment equity?                                                                 587 non-null    object \n",
      " 64  Workplace. Topic:Does your workplace value the diversity of its employees?                                                                                     586 non-null    object \n",
      " 65  Workplace. Topic:Would you recommend the Institute as an employer to others?                                                                                   581 non-null    object \n",
      " 66  Gender. What is your Gender?                                                                                                                                   596 non-null    object \n",
      " 67  CurrentAge. Current Age                                                                                                                                        596 non-null    object \n",
      " 68  Employment Type. Employment Type                                                                                                                               596 non-null    object \n",
      " 69  Classification. Classification                                                                                                                                 596 non-null    object \n",
      " 70  LengthofServiceOverall. Overall Length of Service at Institute (in years)                                                                                      596 non-null    object \n",
      " 71  LengthofServiceCurrent. Length of Service at current workplace (in years)                                                                                      596 non-null    object \n",
      "dtypes: float64(3), object(69)\n",
      "memory usage: 395.0+ KB\n"
     ]
    }
   ],
   "source": [
    "tafe_survey.info()"
   ]
  },
  {
   "cell_type": "code",
   "execution_count": 5,
   "metadata": {},
   "outputs": [],
   "source": [
    "def plot_percentage_null_df(df):\n",
    "    \n",
    "    df_ = df.copy() #create a copy of the dataframe\n",
    "    abv_cols_tafe = df_.columns.str.slice(start=-10)\n",
    "    df_.columns = abv_cols_tafe\n",
    "    df_null = df_.isnull().mean() * 100\n",
    "    plt.figure(figsize=(10,3))\n",
    "\n",
    "    df_null.plot(kind='bar', color='skyblue')\n",
    "    plt.title('Percentage of Null Values for each column')\n",
    "    plt.ylabel('Percentage of Null Values')\n",
    "    plt.xlabel('Columns')\n",
    "    plt.show()"
   ]
  },
  {
   "cell_type": "code",
   "execution_count": 6,
   "metadata": {},
   "outputs": [
    {
     "name": "stdout",
     "output_type": "stream",
     "text": [
      "72\n",
      "56\n"
     ]
    }
   ],
   "source": [
    "tafe_columns_length = len(tafe_survey.columns)\n",
    "dete_columns_length = len(dete_survey.columns)\n",
    "print(tafe_columns_length)\n",
    "print(dete_columns_length)"
   ]
  },
  {
   "cell_type": "code",
   "execution_count": 7,
   "metadata": {},
   "outputs": [
    {
     "data": {
      "text/html": [
       "<div>\n",
       "<style scoped>\n",
       "    .dataframe tbody tr th:only-of-type {\n",
       "        vertical-align: middle;\n",
       "    }\n",
       "\n",
       "    .dataframe tbody tr th {\n",
       "        vertical-align: top;\n",
       "    }\n",
       "\n",
       "    .dataframe thead th {\n",
       "        text-align: right;\n",
       "    }\n",
       "</style>\n",
       "<table border=\"1\" class=\"dataframe\">\n",
       "  <thead>\n",
       "    <tr style=\"text-align: right;\">\n",
       "      <th></th>\n",
       "      <th>Record ID</th>\n",
       "      <th>Institute</th>\n",
       "      <th>WorkArea</th>\n",
       "      <th>CESSATION YEAR</th>\n",
       "      <th>Reason for ceasing employment</th>\n",
       "      <th>Contributing Factors. Career Move - Public Sector</th>\n",
       "      <th>Contributing Factors. Career Move - Private Sector</th>\n",
       "      <th>Contributing Factors. Career Move - Self-employment</th>\n",
       "      <th>Contributing Factors. Ill Health</th>\n",
       "      <th>Contributing Factors. Maternity/Family</th>\n",
       "      <th>...</th>\n",
       "      <th>Workplace. Topic:Does your workplace promote a work culture free from all forms of unlawful discrimination?</th>\n",
       "      <th>Workplace. Topic:Does your workplace promote and practice the principles of employment equity?</th>\n",
       "      <th>Workplace. Topic:Does your workplace value the diversity of its employees?</th>\n",
       "      <th>Workplace. Topic:Would you recommend the Institute as an employer to others?</th>\n",
       "      <th>Gender. What is your Gender?</th>\n",
       "      <th>CurrentAge. Current Age</th>\n",
       "      <th>Employment Type. Employment Type</th>\n",
       "      <th>Classification. Classification</th>\n",
       "      <th>LengthofServiceOverall. Overall Length of Service at Institute (in years)</th>\n",
       "      <th>LengthofServiceCurrent. Length of Service at current workplace (in years)</th>\n",
       "    </tr>\n",
       "  </thead>\n",
       "  <tbody>\n",
       "    <tr>\n",
       "      <th>0</th>\n",
       "      <td>6.341330e+17</td>\n",
       "      <td>Southern Queensland Institute of TAFE</td>\n",
       "      <td>Non-Delivery (corporate)</td>\n",
       "      <td>2010.0</td>\n",
       "      <td>Contract Expired</td>\n",
       "      <td>NaN</td>\n",
       "      <td>NaN</td>\n",
       "      <td>NaN</td>\n",
       "      <td>NaN</td>\n",
       "      <td>NaN</td>\n",
       "      <td>...</td>\n",
       "      <td>Yes</td>\n",
       "      <td>Yes</td>\n",
       "      <td>Yes</td>\n",
       "      <td>Yes</td>\n",
       "      <td>Female</td>\n",
       "      <td>26  30</td>\n",
       "      <td>Temporary Full-time</td>\n",
       "      <td>Administration (AO)</td>\n",
       "      <td>1-2</td>\n",
       "      <td>1-2</td>\n",
       "    </tr>\n",
       "    <tr>\n",
       "      <th>1</th>\n",
       "      <td>6.341337e+17</td>\n",
       "      <td>Mount Isa Institute of TAFE</td>\n",
       "      <td>Non-Delivery (corporate)</td>\n",
       "      <td>2010.0</td>\n",
       "      <td>Retirement</td>\n",
       "      <td>NaN</td>\n",
       "      <td>NaN</td>\n",
       "      <td>NaN</td>\n",
       "      <td>NaN</td>\n",
       "      <td>NaN</td>\n",
       "      <td>...</td>\n",
       "      <td>Yes</td>\n",
       "      <td>Yes</td>\n",
       "      <td>Yes</td>\n",
       "      <td>Yes</td>\n",
       "      <td>NaN</td>\n",
       "      <td>NaN</td>\n",
       "      <td>NaN</td>\n",
       "      <td>NaN</td>\n",
       "      <td>NaN</td>\n",
       "      <td>NaN</td>\n",
       "    </tr>\n",
       "    <tr>\n",
       "      <th>2</th>\n",
       "      <td>6.341388e+17</td>\n",
       "      <td>Mount Isa Institute of TAFE</td>\n",
       "      <td>Delivery (teaching)</td>\n",
       "      <td>2010.0</td>\n",
       "      <td>Retirement</td>\n",
       "      <td>NaN</td>\n",
       "      <td>NaN</td>\n",
       "      <td>NaN</td>\n",
       "      <td>NaN</td>\n",
       "      <td>NaN</td>\n",
       "      <td>...</td>\n",
       "      <td>Yes</td>\n",
       "      <td>Yes</td>\n",
       "      <td>Yes</td>\n",
       "      <td>Yes</td>\n",
       "      <td>NaN</td>\n",
       "      <td>NaN</td>\n",
       "      <td>NaN</td>\n",
       "      <td>NaN</td>\n",
       "      <td>NaN</td>\n",
       "      <td>NaN</td>\n",
       "    </tr>\n",
       "    <tr>\n",
       "      <th>3</th>\n",
       "      <td>6.341399e+17</td>\n",
       "      <td>Mount Isa Institute of TAFE</td>\n",
       "      <td>Non-Delivery (corporate)</td>\n",
       "      <td>2010.0</td>\n",
       "      <td>Resignation</td>\n",
       "      <td>NaN</td>\n",
       "      <td>NaN</td>\n",
       "      <td>NaN</td>\n",
       "      <td>NaN</td>\n",
       "      <td>NaN</td>\n",
       "      <td>...</td>\n",
       "      <td>Yes</td>\n",
       "      <td>Yes</td>\n",
       "      <td>Yes</td>\n",
       "      <td>Yes</td>\n",
       "      <td>NaN</td>\n",
       "      <td>NaN</td>\n",
       "      <td>NaN</td>\n",
       "      <td>NaN</td>\n",
       "      <td>NaN</td>\n",
       "      <td>NaN</td>\n",
       "    </tr>\n",
       "    <tr>\n",
       "      <th>4</th>\n",
       "      <td>6.341466e+17</td>\n",
       "      <td>Southern Queensland Institute of TAFE</td>\n",
       "      <td>Delivery (teaching)</td>\n",
       "      <td>2010.0</td>\n",
       "      <td>Resignation</td>\n",
       "      <td>NaN</td>\n",
       "      <td>Career Move - Private Sector</td>\n",
       "      <td>NaN</td>\n",
       "      <td>NaN</td>\n",
       "      <td>NaN</td>\n",
       "      <td>...</td>\n",
       "      <td>Yes</td>\n",
       "      <td>Yes</td>\n",
       "      <td>Yes</td>\n",
       "      <td>Yes</td>\n",
       "      <td>Male</td>\n",
       "      <td>41  45</td>\n",
       "      <td>Permanent Full-time</td>\n",
       "      <td>Teacher (including LVT)</td>\n",
       "      <td>3-4</td>\n",
       "      <td>3-4</td>\n",
       "    </tr>\n",
       "  </tbody>\n",
       "</table>\n",
       "<p>5 rows × 72 columns</p>\n",
       "</div>"
      ],
      "text/plain": [
       "      Record ID                              Institute  \\\n",
       "0  6.341330e+17  Southern Queensland Institute of TAFE   \n",
       "1  6.341337e+17            Mount Isa Institute of TAFE   \n",
       "2  6.341388e+17            Mount Isa Institute of TAFE   \n",
       "3  6.341399e+17            Mount Isa Institute of TAFE   \n",
       "4  6.341466e+17  Southern Queensland Institute of TAFE   \n",
       "\n",
       "                   WorkArea  CESSATION YEAR Reason for ceasing employment  \\\n",
       "0  Non-Delivery (corporate)          2010.0              Contract Expired   \n",
       "1  Non-Delivery (corporate)          2010.0                    Retirement   \n",
       "2       Delivery (teaching)          2010.0                    Retirement   \n",
       "3  Non-Delivery (corporate)          2010.0                   Resignation   \n",
       "4       Delivery (teaching)          2010.0                   Resignation   \n",
       "\n",
       "  Contributing Factors. Career Move - Public Sector   \\\n",
       "0                                                NaN   \n",
       "1                                                NaN   \n",
       "2                                                NaN   \n",
       "3                                                NaN   \n",
       "4                                                NaN   \n",
       "\n",
       "  Contributing Factors. Career Move - Private Sector   \\\n",
       "0                                                NaN    \n",
       "1                                                NaN    \n",
       "2                                                NaN    \n",
       "3                                                NaN    \n",
       "4                       Career Move - Private Sector    \n",
       "\n",
       "  Contributing Factors. Career Move - Self-employment  \\\n",
       "0                                                NaN    \n",
       "1                                                NaN    \n",
       "2                                                NaN    \n",
       "3                                                NaN    \n",
       "4                                                NaN    \n",
       "\n",
       "  Contributing Factors. Ill Health Contributing Factors. Maternity/Family  \\\n",
       "0                              NaN                                    NaN   \n",
       "1                              NaN                                    NaN   \n",
       "2                              NaN                                    NaN   \n",
       "3                              NaN                                    NaN   \n",
       "4                              NaN                                    NaN   \n",
       "\n",
       "   ...  \\\n",
       "0  ...   \n",
       "1  ...   \n",
       "2  ...   \n",
       "3  ...   \n",
       "4  ...   \n",
       "\n",
       "  Workplace. Topic:Does your workplace promote a work culture free from all forms of unlawful discrimination?  \\\n",
       "0                                                Yes                                                            \n",
       "1                                                Yes                                                            \n",
       "2                                                Yes                                                            \n",
       "3                                                Yes                                                            \n",
       "4                                                Yes                                                            \n",
       "\n",
       "  Workplace. Topic:Does your workplace promote and practice the principles of employment equity?  \\\n",
       "0                                                Yes                                               \n",
       "1                                                Yes                                               \n",
       "2                                                Yes                                               \n",
       "3                                                Yes                                               \n",
       "4                                                Yes                                               \n",
       "\n",
       "  Workplace. Topic:Does your workplace value the diversity of its employees?  \\\n",
       "0                                                Yes                           \n",
       "1                                                Yes                           \n",
       "2                                                Yes                           \n",
       "3                                                Yes                           \n",
       "4                                                Yes                           \n",
       "\n",
       "  Workplace. Topic:Would you recommend the Institute as an employer to others?  \\\n",
       "0                                                Yes                             \n",
       "1                                                Yes                             \n",
       "2                                                Yes                             \n",
       "3                                                Yes                             \n",
       "4                                                Yes                             \n",
       "\n",
       "  Gender. What is your Gender? CurrentAge. Current Age  \\\n",
       "0                       Female                  26  30   \n",
       "1                          NaN                     NaN   \n",
       "2                          NaN                     NaN   \n",
       "3                          NaN                     NaN   \n",
       "4                         Male                  41  45   \n",
       "\n",
       "  Employment Type. Employment Type Classification. Classification  \\\n",
       "0              Temporary Full-time            Administration (AO)   \n",
       "1                              NaN                            NaN   \n",
       "2                              NaN                            NaN   \n",
       "3                              NaN                            NaN   \n",
       "4              Permanent Full-time        Teacher (including LVT)   \n",
       "\n",
       "  LengthofServiceOverall. Overall Length of Service at Institute (in years)  \\\n",
       "0                                                1-2                          \n",
       "1                                                NaN                          \n",
       "2                                                NaN                          \n",
       "3                                                NaN                          \n",
       "4                                                3-4                          \n",
       "\n",
       "  LengthofServiceCurrent. Length of Service at current workplace (in years)  \n",
       "0                                                1-2                         \n",
       "1                                                NaN                         \n",
       "2                                                NaN                         \n",
       "3                                                NaN                         \n",
       "4                                                3-4                         \n",
       "\n",
       "[5 rows x 72 columns]"
      ]
     },
     "execution_count": 7,
     "metadata": {},
     "output_type": "execute_result"
    }
   ],
   "source": [
    "tafe_survey.head()"
   ]
  },
  {
   "cell_type": "markdown",
   "metadata": {},
   "source": [
    "<p style=\"color:gray\">The two surveys differ in column naming. There are several similar data but named differently. Missing data are present. The tafe_survey data is more detailed. It includes the questions that they asked the employees on their exit interview.</p>"
   ]
  },
  {
   "cell_type": "code",
   "execution_count": 8,
   "metadata": {},
   "outputs": [
    {
     "data": {
      "text/html": [
       "<div>\n",
       "<style scoped>\n",
       "    .dataframe tbody tr th:only-of-type {\n",
       "        vertical-align: middle;\n",
       "    }\n",
       "\n",
       "    .dataframe tbody tr th {\n",
       "        vertical-align: top;\n",
       "    }\n",
       "\n",
       "    .dataframe thead th {\n",
       "        text-align: right;\n",
       "    }\n",
       "</style>\n",
       "<table border=\"1\" class=\"dataframe\">\n",
       "  <thead>\n",
       "    <tr style=\"text-align: right;\">\n",
       "      <th></th>\n",
       "      <th>Professional Development</th>\n",
       "      <th>Opportunities for promotion</th>\n",
       "      <th>Staff morale</th>\n",
       "      <th>Workplace issue</th>\n",
       "      <th>Physical environment</th>\n",
       "      <th>Worklife balance</th>\n",
       "      <th>Stress and pressure support</th>\n",
       "      <th>Performance of supervisor</th>\n",
       "      <th>Peer support</th>\n",
       "      <th>Initiative</th>\n",
       "      <th>...</th>\n",
       "      <th>Coach</th>\n",
       "      <th>Career Aspirations</th>\n",
       "      <th>Feedback</th>\n",
       "      <th>Further PD</th>\n",
       "      <th>Communication</th>\n",
       "      <th>My say</th>\n",
       "      <th>Information</th>\n",
       "      <th>Kept informed</th>\n",
       "      <th>Wellness programs</th>\n",
       "      <th>Health &amp; Safety</th>\n",
       "    </tr>\n",
       "  </thead>\n",
       "  <tbody>\n",
       "    <tr>\n",
       "      <th>0</th>\n",
       "      <td>A</td>\n",
       "      <td>A</td>\n",
       "      <td>N</td>\n",
       "      <td>N</td>\n",
       "      <td>N</td>\n",
       "      <td>A</td>\n",
       "      <td>A</td>\n",
       "      <td>A</td>\n",
       "      <td>A</td>\n",
       "      <td>N</td>\n",
       "      <td>...</td>\n",
       "      <td>N</td>\n",
       "      <td>A</td>\n",
       "      <td>A</td>\n",
       "      <td>A</td>\n",
       "      <td>N</td>\n",
       "      <td>A</td>\n",
       "      <td>A</td>\n",
       "      <td>N</td>\n",
       "      <td>N</td>\n",
       "      <td>N</td>\n",
       "    </tr>\n",
       "    <tr>\n",
       "      <th>1</th>\n",
       "      <td>A</td>\n",
       "      <td>A</td>\n",
       "      <td>N</td>\n",
       "      <td>N</td>\n",
       "      <td>N</td>\n",
       "      <td>N</td>\n",
       "      <td>A</td>\n",
       "      <td>A</td>\n",
       "      <td>A</td>\n",
       "      <td>N</td>\n",
       "      <td>...</td>\n",
       "      <td>N</td>\n",
       "      <td>A</td>\n",
       "      <td>A</td>\n",
       "      <td>A</td>\n",
       "      <td>N</td>\n",
       "      <td>A</td>\n",
       "      <td>A</td>\n",
       "      <td>N</td>\n",
       "      <td>N</td>\n",
       "      <td>N</td>\n",
       "    </tr>\n",
       "    <tr>\n",
       "      <th>2</th>\n",
       "      <td>N</td>\n",
       "      <td>N</td>\n",
       "      <td>N</td>\n",
       "      <td>N</td>\n",
       "      <td>N</td>\n",
       "      <td>N</td>\n",
       "      <td>N</td>\n",
       "      <td>N</td>\n",
       "      <td>N</td>\n",
       "      <td>N</td>\n",
       "      <td>...</td>\n",
       "      <td>N</td>\n",
       "      <td>N</td>\n",
       "      <td>N</td>\n",
       "      <td>N</td>\n",
       "      <td>A</td>\n",
       "      <td>A</td>\n",
       "      <td>N</td>\n",
       "      <td>N</td>\n",
       "      <td>N</td>\n",
       "      <td>N</td>\n",
       "    </tr>\n",
       "    <tr>\n",
       "      <th>3</th>\n",
       "      <td>A</td>\n",
       "      <td>N</td>\n",
       "      <td>N</td>\n",
       "      <td>N</td>\n",
       "      <td>A</td>\n",
       "      <td>A</td>\n",
       "      <td>N</td>\n",
       "      <td>N</td>\n",
       "      <td>A</td>\n",
       "      <td>A</td>\n",
       "      <td>...</td>\n",
       "      <td>A</td>\n",
       "      <td>A</td>\n",
       "      <td>A</td>\n",
       "      <td>A</td>\n",
       "      <td>A</td>\n",
       "      <td>A</td>\n",
       "      <td>A</td>\n",
       "      <td>A</td>\n",
       "      <td>N</td>\n",
       "      <td>A</td>\n",
       "    </tr>\n",
       "    <tr>\n",
       "      <th>4</th>\n",
       "      <td>A</td>\n",
       "      <td>A</td>\n",
       "      <td>N</td>\n",
       "      <td>N</td>\n",
       "      <td>D</td>\n",
       "      <td>D</td>\n",
       "      <td>N</td>\n",
       "      <td>A</td>\n",
       "      <td>A</td>\n",
       "      <td>A</td>\n",
       "      <td>...</td>\n",
       "      <td>A</td>\n",
       "      <td>A</td>\n",
       "      <td>SA</td>\n",
       "      <td>SA</td>\n",
       "      <td>D</td>\n",
       "      <td>D</td>\n",
       "      <td>A</td>\n",
       "      <td>N</td>\n",
       "      <td>A</td>\n",
       "      <td>M</td>\n",
       "    </tr>\n",
       "  </tbody>\n",
       "</table>\n",
       "<p>5 rows × 21 columns</p>\n",
       "</div>"
      ],
      "text/plain": [
       "  Professional Development Opportunities for promotion Staff morale  \\\n",
       "0                        A                           A            N   \n",
       "1                        A                           A            N   \n",
       "2                        N                           N            N   \n",
       "3                        A                           N            N   \n",
       "4                        A                           A            N   \n",
       "\n",
       "  Workplace issue Physical environment Worklife balance  \\\n",
       "0               N                    N                A   \n",
       "1               N                    N                N   \n",
       "2               N                    N                N   \n",
       "3               N                    A                A   \n",
       "4               N                    D                D   \n",
       "\n",
       "  Stress and pressure support Performance of supervisor Peer support  \\\n",
       "0                           A                         A            A   \n",
       "1                           A                         A            A   \n",
       "2                           N                         N            N   \n",
       "3                           N                         N            A   \n",
       "4                           N                         A            A   \n",
       "\n",
       "  Initiative  ... Coach Career Aspirations Feedback Further PD Communication  \\\n",
       "0          N  ...     N                  A        A          A             N   \n",
       "1          N  ...     N                  A        A          A             N   \n",
       "2          N  ...     N                  N        N          N             A   \n",
       "3          A  ...     A                  A        A          A             A   \n",
       "4          A  ...     A                  A       SA         SA             D   \n",
       "\n",
       "  My say Information Kept informed Wellness programs Health & Safety  \n",
       "0      A           A             N                 N               N  \n",
       "1      A           A             N                 N               N  \n",
       "2      A           N             N                 N               N  \n",
       "3      A           A             A                 N               A  \n",
       "4      D           A             N                 A               M  \n",
       "\n",
       "[5 rows x 21 columns]"
      ]
     },
     "execution_count": 8,
     "metadata": {},
     "output_type": "execute_result"
    }
   ],
   "source": [
    "# Inspect the columns 28 to 49\n",
    "dete_survey[dete_survey.columns[28:49]].head()"
   ]
  },
  {
   "cell_type": "code",
   "execution_count": 9,
   "metadata": {},
   "outputs": [
    {
     "data": {
      "text/html": [
       "<div>\n",
       "<style scoped>\n",
       "    .dataframe tbody tr th:only-of-type {\n",
       "        vertical-align: middle;\n",
       "    }\n",
       "\n",
       "    .dataframe tbody tr th {\n",
       "        vertical-align: top;\n",
       "    }\n",
       "\n",
       "    .dataframe thead th {\n",
       "        text-align: right;\n",
       "    }\n",
       "</style>\n",
       "<table border=\"1\" class=\"dataframe\">\n",
       "  <thead>\n",
       "    <tr style=\"text-align: right;\">\n",
       "      <th></th>\n",
       "      <th>Career move to public sector</th>\n",
       "      <th>Career move to private sector</th>\n",
       "      <th>Interpersonal conflicts</th>\n",
       "      <th>Job dissatisfaction</th>\n",
       "      <th>Dissatisfaction with the department</th>\n",
       "      <th>Physical work environment</th>\n",
       "      <th>Lack of recognition</th>\n",
       "      <th>Lack of job security</th>\n",
       "      <th>Work location</th>\n",
       "      <th>Employment conditions</th>\n",
       "      <th>Maternity/family</th>\n",
       "    </tr>\n",
       "  </thead>\n",
       "  <tbody>\n",
       "    <tr>\n",
       "      <th>0</th>\n",
       "      <td>True</td>\n",
       "      <td>False</td>\n",
       "      <td>False</td>\n",
       "      <td>True</td>\n",
       "      <td>False</td>\n",
       "      <td>False</td>\n",
       "      <td>True</td>\n",
       "      <td>False</td>\n",
       "      <td>False</td>\n",
       "      <td>False</td>\n",
       "      <td>False</td>\n",
       "    </tr>\n",
       "    <tr>\n",
       "      <th>1</th>\n",
       "      <td>False</td>\n",
       "      <td>False</td>\n",
       "      <td>False</td>\n",
       "      <td>False</td>\n",
       "      <td>False</td>\n",
       "      <td>False</td>\n",
       "      <td>False</td>\n",
       "      <td>False</td>\n",
       "      <td>False</td>\n",
       "      <td>False</td>\n",
       "      <td>False</td>\n",
       "    </tr>\n",
       "    <tr>\n",
       "      <th>2</th>\n",
       "      <td>False</td>\n",
       "      <td>False</td>\n",
       "      <td>False</td>\n",
       "      <td>False</td>\n",
       "      <td>False</td>\n",
       "      <td>False</td>\n",
       "      <td>False</td>\n",
       "      <td>False</td>\n",
       "      <td>False</td>\n",
       "      <td>False</td>\n",
       "      <td>False</td>\n",
       "    </tr>\n",
       "    <tr>\n",
       "      <th>3</th>\n",
       "      <td>False</td>\n",
       "      <td>True</td>\n",
       "      <td>False</td>\n",
       "      <td>False</td>\n",
       "      <td>False</td>\n",
       "      <td>False</td>\n",
       "      <td>False</td>\n",
       "      <td>False</td>\n",
       "      <td>False</td>\n",
       "      <td>False</td>\n",
       "      <td>False</td>\n",
       "    </tr>\n",
       "    <tr>\n",
       "      <th>4</th>\n",
       "      <td>False</td>\n",
       "      <td>False</td>\n",
       "      <td>False</td>\n",
       "      <td>False</td>\n",
       "      <td>False</td>\n",
       "      <td>False</td>\n",
       "      <td>False</td>\n",
       "      <td>False</td>\n",
       "      <td>False</td>\n",
       "      <td>False</td>\n",
       "      <td>False</td>\n",
       "    </tr>\n",
       "  </tbody>\n",
       "</table>\n",
       "</div>"
      ],
      "text/plain": [
       "   Career move to public sector  Career move to private sector  \\\n",
       "0                          True                          False   \n",
       "1                         False                          False   \n",
       "2                         False                          False   \n",
       "3                         False                           True   \n",
       "4                         False                          False   \n",
       "\n",
       "   Interpersonal conflicts  Job dissatisfaction  \\\n",
       "0                    False                 True   \n",
       "1                    False                False   \n",
       "2                    False                False   \n",
       "3                    False                False   \n",
       "4                    False                False   \n",
       "\n",
       "   Dissatisfaction with the department  Physical work environment  \\\n",
       "0                                False                      False   \n",
       "1                                False                      False   \n",
       "2                                False                      False   \n",
       "3                                False                      False   \n",
       "4                                False                      False   \n",
       "\n",
       "   Lack of recognition  Lack of job security  Work location  \\\n",
       "0                 True                 False          False   \n",
       "1                False                 False          False   \n",
       "2                False                 False          False   \n",
       "3                False                 False          False   \n",
       "4                False                 False          False   \n",
       "\n",
       "   Employment conditions  Maternity/family  \n",
       "0                  False             False  \n",
       "1                  False             False  \n",
       "2                  False             False  \n",
       "3                  False             False  \n",
       "4                  False             False  "
      ]
     },
     "execution_count": 9,
     "metadata": {},
     "output_type": "execute_result"
    }
   ],
   "source": [
    "# Inspect the columns 10 to 21\n",
    "dete_survey[dete_survey.columns[10:21]].head()"
   ]
  },
  {
   "cell_type": "code",
   "execution_count": 10,
   "metadata": {},
   "outputs": [
    {
     "data": {
      "text/plain": [
       "0             Agree\n",
       "1    Strongly Agree\n",
       "2             Agree\n",
       "3             Agree\n",
       "4    Strongly Agree\n",
       "Name: InstituteViews. Topic:6. The organisation recognised when staff did good work, dtype: object"
      ]
     },
     "execution_count": 10,
     "metadata": {},
     "output_type": "execute_result"
    }
   ],
   "source": [
    "# Inspect a column\n",
    "tafe_survey[\"InstituteViews. Topic:6. The organisation recognised when staff did good work\"].head()"
   ]
  },
  {
   "cell_type": "code",
   "execution_count": 11,
   "metadata": {},
   "outputs": [
    {
     "data": {
      "image/png": "[encoded data removed]",
      "text/plain": [
       "<Figure size 1000x300 with 1 Axes>"
      ]
     },
     "metadata": {},
     "output_type": "display_data"
    }
   ],
   "source": [
    "plot_percentage_null_df(dete_survey)"
   ]
  },
  {
   "cell_type": "code",
   "execution_count": 12,
   "metadata": {},
   "outputs": [
    {
     "data": {
      "image/png": "[encoded data removed]",
      "text/plain": [
       "<Figure size 1000x300 with 1 Axes>"
      ]
     },
     "metadata": {},
     "output_type": "display_data"
    }
   ],
   "source": [
    "plot_percentage_null_df(tafe_survey)"
   ]
  },
  {
   "cell_type": "markdown",
   "metadata": {},
   "source": [
    "<span style=\"color:gray\">We see that some columns contain above 90% missing values. Consider the percentage of missing values in deciding which columns to drop. </span>"
   ]
  },
  {
   "cell_type": "code",
   "execution_count": 13,
   "metadata": {},
   "outputs": [],
   "source": [
    "# Remove columns that will not be included in the data exploration\n",
    "\"\"\"\n",
    "Remove the columns that contain the questionaire during the survey conducted like:\n",
    "    how the employee rated 'Staff morale' from A to F or \n",
    "    how do The organisation recognised when staff did good work\n",
    "\"\"\"\n",
    "\n",
    "dete_survey_updated = dete_survey.drop(dete_survey.columns[28:49], axis=1)\n",
    "tafe_survey_updated = tafe_survey.drop(tafe_survey.columns[17:66], axis=1)\n",
    "\n"
   ]
  },
  {
   "cell_type": "markdown",
   "metadata": {},
   "source": [
    "CLEANING COLUMN NAMES"
   ]
  },
  {
   "cell_type": "markdown",
   "metadata": {},
   "source": [
    "<span style=\"color:gray\">Some columns refer to the same data but were just named differently</span>"
   ]
  },
  {
   "cell_type": "code",
   "execution_count": 14,
   "metadata": {},
   "outputs": [
    {
     "data": {
      "text/html": [
       "<div>\n",
       "<style scoped>\n",
       "    .dataframe tbody tr th:only-of-type {\n",
       "        vertical-align: middle;\n",
       "    }\n",
       "\n",
       "    .dataframe tbody tr th {\n",
       "        vertical-align: top;\n",
       "    }\n",
       "\n",
       "    .dataframe thead th {\n",
       "        text-align: right;\n",
       "    }\n",
       "</style>\n",
       "<table border=\"1\" class=\"dataframe\">\n",
       "  <thead>\n",
       "    <tr style=\"text-align: right;\">\n",
       "      <th></th>\n",
       "      <th>date_survey</th>\n",
       "      <th>tafe_survey</th>\n",
       "      <th>Definition</th>\n",
       "    </tr>\n",
       "  </thead>\n",
       "  <tbody>\n",
       "    <tr>\n",
       "      <th>0</th>\n",
       "      <td>ID</td>\n",
       "      <td>Record ID</td>\n",
       "      <td>An id used to identify the participant of the ...</td>\n",
       "    </tr>\n",
       "    <tr>\n",
       "      <th>1</th>\n",
       "      <td>SeparationType</td>\n",
       "      <td>Reason for ceasing employment</td>\n",
       "      <td>The reason why the participant's employment ended</td>\n",
       "    </tr>\n",
       "    <tr>\n",
       "      <th>2</th>\n",
       "      <td>Cease Date</td>\n",
       "      <td>CESSATION YEAR</td>\n",
       "      <td>The year or month the participant's employment...</td>\n",
       "    </tr>\n",
       "    <tr>\n",
       "      <th>3</th>\n",
       "      <td>DETE Start Date</td>\n",
       "      <td></td>\n",
       "      <td>The year the participant began employment with...</td>\n",
       "    </tr>\n",
       "    <tr>\n",
       "      <th>4</th>\n",
       "      <td></td>\n",
       "      <td>LengthOfServiceOverall. Overall Lenght of Serv...</td>\n",
       "      <td>The length of the person's employment (in years)</td>\n",
       "    </tr>\n",
       "    <tr>\n",
       "      <th>5</th>\n",
       "      <td>Age</td>\n",
       "      <td>CurrentAge.CurrentAge</td>\n",
       "      <td>The age of the participant</td>\n",
       "    </tr>\n",
       "    <tr>\n",
       "      <th>6</th>\n",
       "      <td>Gender</td>\n",
       "      <td>Gender.What is your Gender?</td>\n",
       "      <td>The gender of the participant</td>\n",
       "    </tr>\n",
       "  </tbody>\n",
       "</table>\n",
       "</div>"
      ],
      "text/plain": [
       "       date_survey                                        tafe_survey  \\\n",
       "0               ID                                          Record ID   \n",
       "1   SeparationType                      Reason for ceasing employment   \n",
       "2       Cease Date                                     CESSATION YEAR   \n",
       "3  DETE Start Date                                                      \n",
       "4                   LengthOfServiceOverall. Overall Lenght of Serv...   \n",
       "5              Age                              CurrentAge.CurrentAge   \n",
       "6           Gender                        Gender.What is your Gender?   \n",
       "\n",
       "                                          Definition  \n",
       "0  An id used to identify the participant of the ...  \n",
       "1  The reason why the participant's employment ended  \n",
       "2  The year or month the participant's employment...  \n",
       "3  The year the participant began employment with...  \n",
       "4   The length of the person's employment (in years)  \n",
       "5                         The age of the participant  \n",
       "6                      The gender of the participant  "
      ]
     },
     "execution_count": 14,
     "metadata": {},
     "output_type": "execute_result"
    }
   ],
   "source": [
    "dete_tafe_def_common = {\n",
    "    'date_survey': [\n",
    "        'ID',\n",
    "        'SeparationType', \n",
    "        'Cease Date', \n",
    "        'DETE Start Date', \n",
    "        \" \", \n",
    "        'Age', \n",
    "        'Gender'],\n",
    "    'tafe_survey':[\n",
    "        'Record ID',\n",
    "        'Reason for ceasing employment',\n",
    "        \"CESSATION YEAR\", \n",
    "        \" \", \n",
    "        \"LengthOfServiceOverall. Overall Lenght of Service at Institute (in yearrs)\",\n",
    "        \"CurrentAge.CurrentAge\", \n",
    "        \"Gender.What is your Gender?\"],\n",
    "    \"Definition\": [\n",
    "        \"An id used to identify the participant of the survey\",\n",
    "        \"The reason why the participant's employment ended\",\n",
    "        \"The year or month the participant's employment ended\",\n",
    "        \"The year the participant began employment with the DETE\",\n",
    "        \"The length of the person's employment (in years)\",\n",
    "        \"The age of the participant\",\n",
    "        \"The gender of the participant\"\n",
    "    ]\n",
    "        }\n",
    "    \n",
    "df_dete_tafe_common = pd.DataFrame(dete_tafe_def_common)\n",
    "df_dete_tafe_common"
   ]
  },
  {
   "cell_type": "markdown",
   "metadata": {},
   "source": [
    "<ol style=\"color:gray\">\n",
    "    <li>Format the column names of dete_survey by converting to lowercase, removing trailing white spaces and replacing white spaces to underscore\n",
    "<li>Rename some columns in tafe_survey_updated to prepare for combining the two dataframes\n",
    "    </ol>"
   ]
  },
  {
   "cell_type": "code",
   "execution_count": 15,
   "metadata": {},
   "outputs": [],
   "source": [
    "dete_survey_updated.columns = dete_survey_updated.columns.str.strip().str.replace(\" \",\"_\").str.lower()"
   ]
  },
  {
   "cell_type": "code",
   "execution_count": 16,
   "metadata": {},
   "outputs": [],
   "source": [
    "tafe_name_update_dict = {\n",
    "    'Record ID':'id',\n",
    "    'CESSATION YEAR':'cease_date',\n",
    "    'Reason for ceasing employment':'separationtype',\n",
    "    'Gender. What is your Gender?':'gender',\n",
    "    'CurrentAge. Current Age':'age',\n",
    "    'Employment Type. Employment Type':'employment_status',\n",
    "    'Classification. Classification':'position',\n",
    "    'LengthofServiceOverall. Overall Length of Service at Institute (in years)':'institute_service',\n",
    "    'LengthofServiceCurrent. Length of Service at current workplace (in years)':'role_service'\n",
    "}\n",
    "tafe_survey_updated.rename(columns=tafe_name_update_dict, inplace=True)"
   ]
  },
  {
   "cell_type": "markdown",
   "metadata": {},
   "source": [
    "<span style=\"color:gray\">Check the columns to see if the changes were reflected.</span>"
   ]
  },
  {
   "cell_type": "code",
   "execution_count": 17,
   "metadata": {},
   "outputs": [
    {
     "data": {
      "text/plain": [
       "Index(['id', 'Institute', 'WorkArea', 'cease_date', 'separationtype',\n",
       "       'Contributing Factors. Career Move - Public Sector ',\n",
       "       'Contributing Factors. Career Move - Private Sector ',\n",
       "       'Contributing Factors. Career Move - Self-employment',\n",
       "       'Contributing Factors. Ill Health',\n",
       "       'Contributing Factors. Maternity/Family',\n",
       "       'Contributing Factors. Dissatisfaction',\n",
       "       'Contributing Factors. Job Dissatisfaction',\n",
       "       'Contributing Factors. Interpersonal Conflict',\n",
       "       'Contributing Factors. Study', 'Contributing Factors. Travel',\n",
       "       'Contributing Factors. Other', 'Contributing Factors. NONE', 'gender',\n",
       "       'age', 'employment_status', 'position', 'institute_service',\n",
       "       'role_service'],\n",
       "      dtype='object')"
      ]
     },
     "execution_count": 17,
     "metadata": {},
     "output_type": "execute_result"
    }
   ],
   "source": [
    "tafe_survey_updated.columns"
   ]
  },
  {
   "cell_type": "code",
   "execution_count": 18,
   "metadata": {},
   "outputs": [
    {
     "data": {
      "text/plain": [
       "Index(['id', 'separationtype', 'cease_date', 'dete_start_date',\n",
       "       'role_start_date', 'position', 'classification', 'region',\n",
       "       'business_unit', 'employment_status', 'career_move_to_public_sector',\n",
       "       'career_move_to_private_sector', 'interpersonal_conflicts',\n",
       "       'job_dissatisfaction', 'dissatisfaction_with_the_department',\n",
       "       'physical_work_environment', 'lack_of_recognition',\n",
       "       'lack_of_job_security', 'work_location', 'employment_conditions',\n",
       "       'maternity/family', 'relocation', 'study/travel', 'ill_health',\n",
       "       'traumatic_incident', 'work_life_balance', 'workload',\n",
       "       'none_of_the_above', 'gender', 'age', 'aboriginal', 'torres_strait',\n",
       "       'south_sea', 'disability', 'nesb'],\n",
       "      dtype='object')"
      ]
     },
     "execution_count": 18,
     "metadata": {},
     "output_type": "execute_result"
    }
   ],
   "source": [
    "dete_survey_updated.columns"
   ]
  },
  {
   "cell_type": "markdown",
   "metadata": {},
   "source": [
    "FILTER THE DATA"
   ]
  },
  {
   "cell_type": "markdown",
   "metadata": {},
   "source": [
    "<div style=\"color:gray\">\n",
    "Let's inspect the separationtype column for both dete and tafe surveys.\n",
    "In the tafe survey one of the values is Resignation while dete survey has three types of resignation. These are: \n",
    "<ol> \n",
    "    <li>Resignation-Other reasons</li>\n",
    "    <li>Resignation-Other employer</li>\n",
    "    <li>Resignation-Move overseas/interstate</li>\n",
    " </ol>\n",
    " </div>"
   ]
  },
  {
   "cell_type": "code",
   "execution_count": 19,
   "metadata": {
    "scrolled": true
   },
   "outputs": [
    {
     "name": "stdout",
     "output_type": "stream",
     "text": [
      "---DETE-----------------------------\n",
      "Age Retirement                          285\n",
      "Resignation-Other reasons               150\n",
      "Resignation-Other employer               91\n",
      "Resignation-Move overseas/interstate     70\n",
      "Voluntary Early Retirement (VER)         67\n",
      "Ill Health Retirement                    61\n",
      "Other                                    49\n",
      "Contract Expired                         34\n",
      "Termination                              15\n",
      "Name: separationtype, dtype: int64\n",
      "---TAFE-----------------------------\n",
      "Resignation                 340\n",
      "Contract Expired            127\n",
      "Retrenchment/ Redundancy    104\n",
      "Retirement                   82\n",
      "Transfer                     25\n",
      "Termination                  23\n",
      "Name: separationtype, dtype: int64\n"
     ]
    }
   ],
   "source": [
    "print(\"---DETE-----------------------------\")\n",
    "print(dete_survey_updated['separationtype'].value_counts())\n",
    "print(\"---TAFE-----------------------------\")\n",
    "print(tafe_survey_updated['separationtype'].value_counts())"
   ]
  },
  {
   "cell_type": "markdown",
   "metadata": {},
   "source": [
    "<div style=\"color:gray\">\n",
    "    Get the rows that contains the value \"resignation\" in it. Later on we will generalize all data that has resignation as \"resignation\".\n",
    "    </div>"
   ]
  },
  {
   "cell_type": "code",
   "execution_count": 20,
   "metadata": {},
   "outputs": [],
   "source": [
    "dete_resignations_boolean_series = dete_survey_updated['separationtype'].str.lower().str.contains('resignation')\n",
    "dete_resignations = dete_survey_updated[dete_resignations_boolean_series].copy()"
   ]
  },
  {
   "cell_type": "code",
   "execution_count": 21,
   "metadata": {},
   "outputs": [],
   "source": [
    "'''\n",
    "There is a nan value in the separationtype column. This will cause the dataframe slicing to fail so let't address that first.\n",
    "Find the index of the separationtype column containing the nan value and then drop it.\n",
    "'''\n",
    "# Find the index of the separationtype column containing nan value.\n",
    "index_of_nan = tafe_survey_updated['separationtype'].index[tafe_survey_updated['separationtype'].isna()]\n",
    "tafe_survey_updated['separationtype'][index_of_nan]\n",
    "tafe_survey_updated.drop(index_of_nan, inplace=True)\n",
    "\n",
    "tafe_resignations_boolean_series = tafe_survey_updated['separationtype'].str.lower().str.contains('resignation')\n",
    "tafe_resignations = tafe_survey_updated[tafe_resignations_boolean_series].copy()"
   ]
  },
  {
   "cell_type": "markdown",
   "metadata": {},
   "source": [
    "VERIFY THE DATA"
   ]
  },
  {
   "cell_type": "code",
   "execution_count": 22,
   "metadata": {},
   "outputs": [],
   "source": [
    "cease_year_dete = dete_resignations[\"cease_date\"].str.extractall(r'(?P<cease_year>\\b\\d{4}\\b)').astype(int) #r'(\\b\\d{4}\\b)'\n",
    "\n",
    "first_index_dete = cease_year_dete.index.get_level_values(0)\n",
    "cease_year_dete.set_index(first_index_dete, inplace=True)\n",
    "\n",
    "# Add cease year as a new column to dete_resignations\n",
    "dete_resignations['cease_year'] = cease_year_dete[\"cease_year\"]"
   ]
  },
  {
   "cell_type": "code",
   "execution_count": 23,
   "metadata": {},
   "outputs": [],
   "source": [
    "tafe_resignations[\"cease_date\"] = tafe_resignations[\"cease_date\"].astype(str)\n",
    "cease_year_tafe = tafe_resignations[\"cease_date\"].str.extractall(r'(?P<cease_year>\\b\\d{4}\\b)').astype(int)\n",
    "first_index_tafe = cease_year_tafe.index.get_level_values(0)\n",
    "cease_year_tafe.set_index(first_index_tafe, inplace=True)\n",
    "\n",
    "# Add cease year as a new column to tafe_resignations\n",
    "tafe_resignations['cease_year'] = cease_year_tafe[\"cease_year\"]"
   ]
  },
  {
   "cell_type": "code",
   "execution_count": 24,
   "metadata": {},
   "outputs": [
    {
     "data": {
      "text/plain": [
       "<matplotlib.axes._subplots.AxesSubplot at 0x7f9b545d0a00>"
      ]
     },
     "execution_count": 24,
     "metadata": {},
     "output_type": "execute_result"
    },
    {
     "data": {
      "image/png": "[encoded data removed]",
      "text/plain": [
       "<Figure size 600x400 with 1 Axes>"
      ]
     },
     "metadata": {},
     "output_type": "display_data"
    }
   ],
   "source": [
    "dete_resignations.boxplot(column=['cease_year','dete_start_date'])"
   ]
  },
  {
   "cell_type": "code",
   "execution_count": 25,
   "metadata": {
    "scrolled": true
   },
   "outputs": [
    {
     "data": {
      "text/plain": [
       "Index(['id', 'separationtype', 'cease_date', 'dete_start_date',\n",
       "       'role_start_date', 'position', 'classification', 'region',\n",
       "       'business_unit', 'employment_status', 'career_move_to_public_sector',\n",
       "       'career_move_to_private_sector', 'interpersonal_conflicts',\n",
       "       'job_dissatisfaction', 'dissatisfaction_with_the_department',\n",
       "       'physical_work_environment', 'lack_of_recognition',\n",
       "       'lack_of_job_security', 'work_location', 'employment_conditions',\n",
       "       'maternity/family', 'relocation', 'study/travel', 'ill_health',\n",
       "       'traumatic_incident', 'work_life_balance', 'workload',\n",
       "       'none_of_the_above', 'gender', 'age', 'aboriginal', 'torres_strait',\n",
       "       'south_sea', 'disability', 'nesb', 'cease_year'],\n",
       "      dtype='object')"
      ]
     },
     "execution_count": 25,
     "metadata": {},
     "output_type": "execute_result"
    }
   ],
   "source": [
    "dete_resignations.columns"
   ]
  },
  {
   "cell_type": "markdown",
   "metadata": {},
   "source": [
    "<div style=\"color:gray\">\n",
    "    <h3>II. Define and categorize how long the employee was with the institute</h3>\n",
    "    </div>"
   ]
  },
  {
   "cell_type": "markdown",
   "metadata": {},
   "source": [
    "<div style=\"color:gray\">\n",
    "    Create a new column called institute_service in dete_resignations. This is the length of service for the employee. It is calculated by taking the difference between the year they started in the institute and the year they stopped.\n",
    "    <br>\n",
    "  <div >\n",
    "        e.g. <em>dete_resignations['cease_year'] - dete_resignations['dete_start_year']</em>\n",
    "    </div>\n",
    " </div>"
   ]
  },
  {
   "cell_type": "code",
   "execution_count": 26,
   "metadata": {},
   "outputs": [],
   "source": [
    "dete_resignations['institute_service'] = dete_resignations['cease_year'] - dete_resignations['dete_start_date']"
   ]
  },
  {
   "cell_type": "code",
   "execution_count": 27,
   "metadata": {},
   "outputs": [
    {
     "data": {
      "text/plain": [
       "Less than 1 year      73\n",
       "1-2                   64\n",
       "3-4                   63\n",
       "5-6                   33\n",
       "11-20                 26\n",
       "7-10                  21\n",
       "More than 20 years    10\n",
       "Name: institute_service, dtype: int64"
      ]
     },
     "execution_count": 27,
     "metadata": {},
     "output_type": "execute_result"
    }
   ],
   "source": [
    "tafe_resignations['institute_service'].value_counts()"
   ]
  },
  {
   "cell_type": "markdown",
   "metadata": {},
   "source": [
    "<div style=\"color:gray\">   <p> Change the value format of the institute_service to \n",
    "    the following range to match the same formatting with the tafe_resignations dataset. </p>\n",
    "    <ul>\n",
    "        <li>   'Less than 1 year'</li>\n",
    "         <li>'1-2'</li>\n",
    "         <li>'3-4'</li>\n",
    "         <li>'5-6'</li>\n",
    "         <li>'7-10'</li>\n",
    "         <li>'11-20'</li>\n",
    "         <li>'More than 20 years'</li>\n",
    "    </ul>\n",
    "    To do this, use the classify_service_years function in the dete_resignations['institute_service'].apply method\n",
    "</div>"
   ]
  },
  {
   "cell_type": "code",
   "execution_count": 28,
   "metadata": {},
   "outputs": [],
   "source": [
    "# dete_resignations['institute_service'].apply()\n",
    "def classify_service_years(years):\n",
    "    if years < 1:\n",
    "        return 'Less than 1 year'\n",
    "    elif years >= 1 and years < 3:\n",
    "        return '1-2'\n",
    "    elif years >= 3 and years < 5:\n",
    "        return '3-4'\n",
    "    elif years >=5 and years < 7:\n",
    "        return '5-6'\n",
    "    elif years >=7 and years < 11:\n",
    "        return '7-10'\n",
    "    elif years >=11 and years <= 20:    \n",
    "        return '11-20'\n",
    "    elif years > 20:\n",
    "        return 'More than 20 years'\n",
    "    else:\n",
    "        return np.nan"
   ]
  },
  {
   "cell_type": "code",
   "execution_count": 29,
   "metadata": {},
   "outputs": [],
   "source": [
    "dete_resignations['institute_service'] = dete_resignations['institute_service'].apply(classify_service_years)"
   ]
  },
  {
   "cell_type": "markdown",
   "metadata": {},
   "source": [
    "<div style=\"color:gray\">\n",
    "    Recheck the institute_service columns for both dete_resignations and tafe_resignations dataframes.\n",
    "    </div>"
   ]
  },
  {
   "cell_type": "code",
   "execution_count": 30,
   "metadata": {},
   "outputs": [
    {
     "data": {
      "text/plain": [
       "11-20                 57\n",
       "More than 20 years    43\n",
       "7-10                  41\n",
       "5-6                   40\n",
       "1-2                   36\n",
       "3-4                   36\n",
       "Less than 1 year      20\n",
       "Name: institute_service, dtype: int64"
      ]
     },
     "execution_count": 30,
     "metadata": {},
     "output_type": "execute_result"
    }
   ],
   "source": [
    "dete_resignations['institute_service'].value_counts()"
   ]
  },
  {
   "cell_type": "code",
   "execution_count": 31,
   "metadata": {},
   "outputs": [
    {
     "data": {
      "text/plain": [
       "Less than 1 year      73\n",
       "1-2                   64\n",
       "3-4                   63\n",
       "5-6                   33\n",
       "11-20                 26\n",
       "7-10                  21\n",
       "More than 20 years    10\n",
       "Name: institute_service, dtype: int64"
      ]
     },
     "execution_count": 31,
     "metadata": {},
     "output_type": "execute_result"
    }
   ],
   "source": [
    "tafe_resignations['institute_service'].value_counts()"
   ]
  },
  {
   "cell_type": "markdown",
   "metadata": {},
   "source": [
    "\n",
    "\n",
    "<div style=\"color:gray\">\n",
    "    <h3>III. Identify the resignations caused by some kind of dissatisfaction </h3>\n",
    "    </div>"
   ]
  },
  {
   "cell_type": "markdown",
   "metadata": {},
   "source": [
    "Identify dissatisfied employees"
   ]
  },
  {
   "cell_type": "code",
   "execution_count": 32,
   "metadata": {},
   "outputs": [
    {
     "name": "stdout",
     "output_type": "stream",
     "text": [
      "<class 'pandas.core.frame.DataFrame'>\n",
      "Int64Index: 340 entries, 3 to 701\n",
      "Data columns (total 2 columns):\n",
      " #   Column                                     Non-Null Count  Dtype \n",
      "---  ------                                     --------------  ----- \n",
      " 0   Contributing Factors. Dissatisfaction      55 non-null     object\n",
      " 1   Contributing Factors. Job Dissatisfaction  62 non-null     object\n",
      "dtypes: object(2)\n",
      "memory usage: 8.0+ KB\n"
     ]
    }
   ],
   "source": [
    "tafe_resignations[['Contributing Factors. Dissatisfaction',\n",
    "       'Contributing Factors. Job Dissatisfaction']].info()"
   ]
  },
  {
   "cell_type": "code",
   "execution_count": 33,
   "metadata": {},
   "outputs": [],
   "source": [
    "def update_vals(val):\n",
    "    if pd.isnull(val):\n",
    "        return np.nan\n",
    "    elif type(val) == str and \"contributing\" not in val.lower():\n",
    "        return False\n",
    "    else:\n",
    "        return True\n",
    "    \n",
    "def update_vals_bool(val):\n",
    "    if pd.isnull(val):\n",
    "        return np.nan\n",
    "    elif val > 0:\n",
    "        return True\n",
    "    else:\n",
    "        return False\n",
    "        "
   ]
  },
  {
   "cell_type": "code",
   "execution_count": 34,
   "metadata": {},
   "outputs": [],
   "source": [
    "contrib_factors_columns_tafe = ['Contributing Factors. Dissatisfaction', \n",
    "                                'Contributing Factors. Job Dissatisfaction']\n",
    "tafe_resignations_up = tafe_resignations.copy()\n",
    "tafe_resignations_up[\"dissatisfied\"] = tafe_resignations_up[contrib_factors_columns_tafe].applymap(\n",
    "    update_vals).sum(\n",
    "    axis=1).apply(\n",
    "    update_vals_bool)\n",
    "\n",
    "\n",
    "\n"
   ]
  },
  {
   "cell_type": "code",
   "execution_count": 35,
   "metadata": {},
   "outputs": [
    {
     "data": {
      "text/plain": [
       "False    285\n",
       "True      55\n",
       "Name: dissatisfied, dtype: int64"
      ]
     },
     "execution_count": 35,
     "metadata": {},
     "output_type": "execute_result"
    }
   ],
   "source": [
    "tafe_resignations_up['dissatisfied'].value_counts()"
   ]
  },
  {
   "cell_type": "markdown",
   "metadata": {},
   "source": [
    "Work on dete_survey.\n",
    "\n",
    "<br>\n",
    "Identify the columns the tell the points of job dissatisfaction\n",
    "<ul>\n",
    "    <li>job_dissatisfaction</li>\n",
    "    <li> dissatisfaction_with_the_department'</li>\n",
    "    <li> lack_of_job_security</li>\n",
    "    <li>lack_of_recognition</li>\n",
    "    <li>work_location</li>\n",
    "    <li>employment_conditions</li>\n",
    "    <li>work_life_balance</li>\n",
    "    <li>workload</li>\n",
    "    <li>physical_work_environment</li>\n",
    "</ul>\n",
    "If any of these columns has a value of True then we'll mark the employee as dissatisfied.\n",
    "<br>\n",
    "Place this data in a new 'dissatisfied' column."
   ]
  },
  {
   "cell_type": "code",
   "execution_count": 36,
   "metadata": {},
   "outputs": [
    {
     "data": {
      "text/plain": [
       "Index(['id', 'separationtype', 'cease_date', 'dete_start_date',\n",
       "       'role_start_date', 'position', 'classification', 'region',\n",
       "       'business_unit', 'employment_status', 'career_move_to_public_sector',\n",
       "       'career_move_to_private_sector', 'interpersonal_conflicts',\n",
       "       'job_dissatisfaction', 'dissatisfaction_with_the_department',\n",
       "       'physical_work_environment', 'lack_of_recognition',\n",
       "       'lack_of_job_security', 'work_location', 'employment_conditions',\n",
       "       'maternity/family', 'relocation', 'study/travel', 'ill_health',\n",
       "       'traumatic_incident', 'work_life_balance', 'workload',\n",
       "       'none_of_the_above', 'gender', 'age', 'aboriginal', 'torres_strait',\n",
       "       'south_sea', 'disability', 'nesb', 'cease_year', 'institute_service'],\n",
       "      dtype='object')"
      ]
     },
     "execution_count": 36,
     "metadata": {},
     "output_type": "execute_result"
    }
   ],
   "source": [
    "dete_resignations.columns"
   ]
  },
  {
   "cell_type": "code",
   "execution_count": 37,
   "metadata": {},
   "outputs": [],
   "source": [
    "job_dissatisfaction_columns = ['job_dissatisfaction',\n",
    "                     'dissatisfaction_with_the_department',\n",
    "                     'lack_of_job_security',\n",
    "                     'lack_of_recognition',\n",
    "                     'work_location',\n",
    "                     'employment_conditions',\n",
    "                     'work_life_balance',\n",
    "                     'workload',\n",
    "                     'physical_work_environment']\n",
    "\n",
    "\n",
    "dete_resignations_up = dete_resignations.copy()\n",
    "dete_resignations_up[\"dissatisfied\"] = dete_resignations_up[job_dissatisfaction_columns].applymap(\n",
    "    update_vals_bool).sum(\n",
    "    axis=1).apply(lambda x: x!=0)"
   ]
  },
  {
   "cell_type": "code",
   "execution_count": 38,
   "metadata": {},
   "outputs": [
    {
     "data": {
      "text/html": [
       "<div>\n",
       "<style scoped>\n",
       "    .dataframe tbody tr th:only-of-type {\n",
       "        vertical-align: middle;\n",
       "    }\n",
       "\n",
       "    .dataframe tbody tr th {\n",
       "        vertical-align: top;\n",
       "    }\n",
       "\n",
       "    .dataframe thead th {\n",
       "        text-align: right;\n",
       "    }\n",
       "</style>\n",
       "<table border=\"1\" class=\"dataframe\">\n",
       "  <thead>\n",
       "    <tr style=\"text-align: right;\">\n",
       "      <th></th>\n",
       "      <th>job_dissatisfaction</th>\n",
       "      <th>dissatisfaction_with_the_department</th>\n",
       "      <th>lack_of_job_security</th>\n",
       "      <th>lack_of_recognition</th>\n",
       "      <th>work_location</th>\n",
       "      <th>employment_conditions</th>\n",
       "      <th>work_life_balance</th>\n",
       "      <th>workload</th>\n",
       "      <th>physical_work_environment</th>\n",
       "      <th>dissatisfied</th>\n",
       "    </tr>\n",
       "  </thead>\n",
       "  <tbody>\n",
       "    <tr>\n",
       "      <th>3</th>\n",
       "      <td>False</td>\n",
       "      <td>False</td>\n",
       "      <td>False</td>\n",
       "      <td>False</td>\n",
       "      <td>False</td>\n",
       "      <td>False</td>\n",
       "      <td>False</td>\n",
       "      <td>False</td>\n",
       "      <td>False</td>\n",
       "      <td>False</td>\n",
       "    </tr>\n",
       "    <tr>\n",
       "      <th>5</th>\n",
       "      <td>False</td>\n",
       "      <td>False</td>\n",
       "      <td>False</td>\n",
       "      <td>False</td>\n",
       "      <td>False</td>\n",
       "      <td>True</td>\n",
       "      <td>False</td>\n",
       "      <td>False</td>\n",
       "      <td>False</td>\n",
       "      <td>True</td>\n",
       "    </tr>\n",
       "    <tr>\n",
       "      <th>8</th>\n",
       "      <td>False</td>\n",
       "      <td>False</td>\n",
       "      <td>False</td>\n",
       "      <td>False</td>\n",
       "      <td>False</td>\n",
       "      <td>False</td>\n",
       "      <td>False</td>\n",
       "      <td>False</td>\n",
       "      <td>False</td>\n",
       "      <td>False</td>\n",
       "    </tr>\n",
       "    <tr>\n",
       "      <th>9</th>\n",
       "      <td>True</td>\n",
       "      <td>True</td>\n",
       "      <td>False</td>\n",
       "      <td>False</td>\n",
       "      <td>False</td>\n",
       "      <td>False</td>\n",
       "      <td>False</td>\n",
       "      <td>False</td>\n",
       "      <td>False</td>\n",
       "      <td>True</td>\n",
       "    </tr>\n",
       "    <tr>\n",
       "      <th>11</th>\n",
       "      <td>False</td>\n",
       "      <td>False</td>\n",
       "      <td>False</td>\n",
       "      <td>False</td>\n",
       "      <td>False</td>\n",
       "      <td>False</td>\n",
       "      <td>False</td>\n",
       "      <td>False</td>\n",
       "      <td>False</td>\n",
       "      <td>False</td>\n",
       "    </tr>\n",
       "  </tbody>\n",
       "</table>\n",
       "</div>"
      ],
      "text/plain": [
       "    job_dissatisfaction  dissatisfaction_with_the_department  \\\n",
       "3                 False                                False   \n",
       "5                 False                                False   \n",
       "8                 False                                False   \n",
       "9                  True                                 True   \n",
       "11                False                                False   \n",
       "\n",
       "    lack_of_job_security  lack_of_recognition  work_location  \\\n",
       "3                  False                False          False   \n",
       "5                  False                False          False   \n",
       "8                  False                False          False   \n",
       "9                  False                False          False   \n",
       "11                 False                False          False   \n",
       "\n",
       "    employment_conditions  work_life_balance  workload  \\\n",
       "3                   False              False     False   \n",
       "5                    True              False     False   \n",
       "8                   False              False     False   \n",
       "9                   False              False     False   \n",
       "11                  False              False     False   \n",
       "\n",
       "    physical_work_environment  dissatisfied  \n",
       "3                       False         False  \n",
       "5                       False          True  \n",
       "8                       False         False  \n",
       "9                       False          True  \n",
       "11                      False         False  "
      ]
     },
     "execution_count": 38,
     "metadata": {},
     "output_type": "execute_result"
    }
   ],
   "source": [
    "# Check if the value for the \"dissatisfied\" column is correct by inspecting the columns related to job dissatisfaction\n",
    "dete_resignations_up[[*job_dissatisfaction_columns,\"dissatisfied\"]].head()"
   ]
  },
  {
   "cell_type": "code",
   "execution_count": 39,
   "metadata": {},
   "outputs": [
    {
     "data": {
      "text/html": [
       "<div>\n",
       "<style scoped>\n",
       "    .dataframe tbody tr th:only-of-type {\n",
       "        vertical-align: middle;\n",
       "    }\n",
       "\n",
       "    .dataframe tbody tr th {\n",
       "        vertical-align: top;\n",
       "    }\n",
       "\n",
       "    .dataframe thead th {\n",
       "        text-align: right;\n",
       "    }\n",
       "</style>\n",
       "<table border=\"1\" class=\"dataframe\">\n",
       "  <thead>\n",
       "    <tr style=\"text-align: right;\">\n",
       "      <th></th>\n",
       "      <th>id</th>\n",
       "      <th>separationtype</th>\n",
       "      <th>cease_date</th>\n",
       "      <th>dete_start_date</th>\n",
       "      <th>role_start_date</th>\n",
       "      <th>position</th>\n",
       "      <th>classification</th>\n",
       "      <th>region</th>\n",
       "      <th>business_unit</th>\n",
       "      <th>employment_status</th>\n",
       "      <th>...</th>\n",
       "      <th>gender</th>\n",
       "      <th>age</th>\n",
       "      <th>aboriginal</th>\n",
       "      <th>torres_strait</th>\n",
       "      <th>south_sea</th>\n",
       "      <th>disability</th>\n",
       "      <th>nesb</th>\n",
       "      <th>cease_year</th>\n",
       "      <th>institute_service</th>\n",
       "      <th>dissatisfied</th>\n",
       "    </tr>\n",
       "  </thead>\n",
       "  <tbody>\n",
       "    <tr>\n",
       "      <th>3</th>\n",
       "      <td>4</td>\n",
       "      <td>Resignation-Other reasons</td>\n",
       "      <td>05/2012</td>\n",
       "      <td>2005.0</td>\n",
       "      <td>2006.0</td>\n",
       "      <td>Teacher</td>\n",
       "      <td>Primary</td>\n",
       "      <td>Central Queensland</td>\n",
       "      <td>NaN</td>\n",
       "      <td>Permanent Full-time</td>\n",
       "      <td>...</td>\n",
       "      <td>Female</td>\n",
       "      <td>36-40</td>\n",
       "      <td>NaN</td>\n",
       "      <td>NaN</td>\n",
       "      <td>NaN</td>\n",
       "      <td>NaN</td>\n",
       "      <td>NaN</td>\n",
       "      <td>2012.0</td>\n",
       "      <td>7-10</td>\n",
       "      <td>False</td>\n",
       "    </tr>\n",
       "    <tr>\n",
       "      <th>5</th>\n",
       "      <td>6</td>\n",
       "      <td>Resignation-Other reasons</td>\n",
       "      <td>05/2012</td>\n",
       "      <td>1994.0</td>\n",
       "      <td>1997.0</td>\n",
       "      <td>Guidance Officer</td>\n",
       "      <td>NaN</td>\n",
       "      <td>Central Office</td>\n",
       "      <td>Education Queensland</td>\n",
       "      <td>Permanent Full-time</td>\n",
       "      <td>...</td>\n",
       "      <td>Female</td>\n",
       "      <td>41-45</td>\n",
       "      <td>NaN</td>\n",
       "      <td>NaN</td>\n",
       "      <td>NaN</td>\n",
       "      <td>NaN</td>\n",
       "      <td>NaN</td>\n",
       "      <td>2012.0</td>\n",
       "      <td>11-20</td>\n",
       "      <td>True</td>\n",
       "    </tr>\n",
       "    <tr>\n",
       "      <th>8</th>\n",
       "      <td>9</td>\n",
       "      <td>Resignation-Other reasons</td>\n",
       "      <td>07/2012</td>\n",
       "      <td>2009.0</td>\n",
       "      <td>2009.0</td>\n",
       "      <td>Teacher</td>\n",
       "      <td>Secondary</td>\n",
       "      <td>North Queensland</td>\n",
       "      <td>NaN</td>\n",
       "      <td>Permanent Full-time</td>\n",
       "      <td>...</td>\n",
       "      <td>Female</td>\n",
       "      <td>31-35</td>\n",
       "      <td>NaN</td>\n",
       "      <td>NaN</td>\n",
       "      <td>NaN</td>\n",
       "      <td>NaN</td>\n",
       "      <td>NaN</td>\n",
       "      <td>2012.0</td>\n",
       "      <td>3-4</td>\n",
       "      <td>False</td>\n",
       "    </tr>\n",
       "    <tr>\n",
       "      <th>9</th>\n",
       "      <td>10</td>\n",
       "      <td>Resignation-Other employer</td>\n",
       "      <td>2012</td>\n",
       "      <td>1997.0</td>\n",
       "      <td>2008.0</td>\n",
       "      <td>Teacher Aide</td>\n",
       "      <td>NaN</td>\n",
       "      <td>NaN</td>\n",
       "      <td>NaN</td>\n",
       "      <td>Permanent Part-time</td>\n",
       "      <td>...</td>\n",
       "      <td>Female</td>\n",
       "      <td>46-50</td>\n",
       "      <td>NaN</td>\n",
       "      <td>NaN</td>\n",
       "      <td>NaN</td>\n",
       "      <td>NaN</td>\n",
       "      <td>NaN</td>\n",
       "      <td>2012.0</td>\n",
       "      <td>11-20</td>\n",
       "      <td>True</td>\n",
       "    </tr>\n",
       "    <tr>\n",
       "      <th>11</th>\n",
       "      <td>12</td>\n",
       "      <td>Resignation-Move overseas/interstate</td>\n",
       "      <td>2012</td>\n",
       "      <td>2009.0</td>\n",
       "      <td>2009.0</td>\n",
       "      <td>Teacher</td>\n",
       "      <td>Secondary</td>\n",
       "      <td>Far North Queensland</td>\n",
       "      <td>NaN</td>\n",
       "      <td>Permanent Full-time</td>\n",
       "      <td>...</td>\n",
       "      <td>Male</td>\n",
       "      <td>31-35</td>\n",
       "      <td>NaN</td>\n",
       "      <td>NaN</td>\n",
       "      <td>NaN</td>\n",
       "      <td>NaN</td>\n",
       "      <td>NaN</td>\n",
       "      <td>2012.0</td>\n",
       "      <td>3-4</td>\n",
       "      <td>False</td>\n",
       "    </tr>\n",
       "  </tbody>\n",
       "</table>\n",
       "<p>5 rows × 38 columns</p>\n",
       "</div>"
      ],
      "text/plain": [
       "    id                        separationtype cease_date  dete_start_date  \\\n",
       "3    4             Resignation-Other reasons    05/2012           2005.0   \n",
       "5    6             Resignation-Other reasons    05/2012           1994.0   \n",
       "8    9             Resignation-Other reasons    07/2012           2009.0   \n",
       "9   10            Resignation-Other employer       2012           1997.0   \n",
       "11  12  Resignation-Move overseas/interstate       2012           2009.0   \n",
       "\n",
       "    role_start_date          position classification                region  \\\n",
       "3            2006.0           Teacher        Primary    Central Queensland   \n",
       "5            1997.0  Guidance Officer            NaN        Central Office   \n",
       "8            2009.0           Teacher      Secondary      North Queensland   \n",
       "9            2008.0      Teacher Aide            NaN                   NaN   \n",
       "11           2009.0           Teacher      Secondary  Far North Queensland   \n",
       "\n",
       "           business_unit    employment_status  ...  gender    age  aboriginal  \\\n",
       "3                    NaN  Permanent Full-time  ...  Female  36-40         NaN   \n",
       "5   Education Queensland  Permanent Full-time  ...  Female  41-45         NaN   \n",
       "8                    NaN  Permanent Full-time  ...  Female  31-35         NaN   \n",
       "9                    NaN  Permanent Part-time  ...  Female  46-50         NaN   \n",
       "11                   NaN  Permanent Full-time  ...    Male  31-35         NaN   \n",
       "\n",
       "    torres_strait  south_sea  disability  nesb  cease_year  institute_service  \\\n",
       "3             NaN        NaN         NaN   NaN      2012.0               7-10   \n",
       "5             NaN        NaN         NaN   NaN      2012.0              11-20   \n",
       "8             NaN        NaN         NaN   NaN      2012.0                3-4   \n",
       "9             NaN        NaN         NaN   NaN      2012.0              11-20   \n",
       "11            NaN        NaN         NaN   NaN      2012.0                3-4   \n",
       "\n",
       "    dissatisfied  \n",
       "3          False  \n",
       "5           True  \n",
       "8          False  \n",
       "9           True  \n",
       "11         False  \n",
       "\n",
       "[5 rows x 38 columns]"
      ]
     },
     "execution_count": 39,
     "metadata": {},
     "output_type": "execute_result"
    }
   ],
   "source": [
    "# Inspect the dete_resignations_up table\n",
    "dete_resignations_up.head()"
   ]
  },
  {
   "cell_type": "code",
   "execution_count": 40,
   "metadata": {},
   "outputs": [
    {
     "data": {
      "text/html": [
       "<div>\n",
       "<style scoped>\n",
       "    .dataframe tbody tr th:only-of-type {\n",
       "        vertical-align: middle;\n",
       "    }\n",
       "\n",
       "    .dataframe tbody tr th {\n",
       "        vertical-align: top;\n",
       "    }\n",
       "\n",
       "    .dataframe thead th {\n",
       "        text-align: right;\n",
       "    }\n",
       "</style>\n",
       "<table border=\"1\" class=\"dataframe\">\n",
       "  <thead>\n",
       "    <tr style=\"text-align: right;\">\n",
       "      <th></th>\n",
       "      <th>id</th>\n",
       "      <th>Institute</th>\n",
       "      <th>WorkArea</th>\n",
       "      <th>cease_date</th>\n",
       "      <th>separationtype</th>\n",
       "      <th>Contributing Factors. Career Move - Public Sector</th>\n",
       "      <th>Contributing Factors. Career Move - Private Sector</th>\n",
       "      <th>Contributing Factors. Career Move - Self-employment</th>\n",
       "      <th>Contributing Factors. Ill Health</th>\n",
       "      <th>Contributing Factors. Maternity/Family</th>\n",
       "      <th>...</th>\n",
       "      <th>Contributing Factors. Other</th>\n",
       "      <th>Contributing Factors. NONE</th>\n",
       "      <th>gender</th>\n",
       "      <th>age</th>\n",
       "      <th>employment_status</th>\n",
       "      <th>position</th>\n",
       "      <th>institute_service</th>\n",
       "      <th>role_service</th>\n",
       "      <th>cease_year</th>\n",
       "      <th>dissatisfied</th>\n",
       "    </tr>\n",
       "  </thead>\n",
       "  <tbody>\n",
       "    <tr>\n",
       "      <th>3</th>\n",
       "      <td>6.341399e+17</td>\n",
       "      <td>Mount Isa Institute of TAFE</td>\n",
       "      <td>Non-Delivery (corporate)</td>\n",
       "      <td>2010.0</td>\n",
       "      <td>Resignation</td>\n",
       "      <td>NaN</td>\n",
       "      <td>NaN</td>\n",
       "      <td>NaN</td>\n",
       "      <td>NaN</td>\n",
       "      <td>NaN</td>\n",
       "      <td>...</td>\n",
       "      <td>NaN</td>\n",
       "      <td>NaN</td>\n",
       "      <td>NaN</td>\n",
       "      <td>NaN</td>\n",
       "      <td>NaN</td>\n",
       "      <td>NaN</td>\n",
       "      <td>NaN</td>\n",
       "      <td>NaN</td>\n",
       "      <td>2010.0</td>\n",
       "      <td>False</td>\n",
       "    </tr>\n",
       "    <tr>\n",
       "      <th>4</th>\n",
       "      <td>6.341466e+17</td>\n",
       "      <td>Southern Queensland Institute of TAFE</td>\n",
       "      <td>Delivery (teaching)</td>\n",
       "      <td>2010.0</td>\n",
       "      <td>Resignation</td>\n",
       "      <td>NaN</td>\n",
       "      <td>Career Move - Private Sector</td>\n",
       "      <td>NaN</td>\n",
       "      <td>NaN</td>\n",
       "      <td>NaN</td>\n",
       "      <td>...</td>\n",
       "      <td>NaN</td>\n",
       "      <td>NaN</td>\n",
       "      <td>Male</td>\n",
       "      <td>41  45</td>\n",
       "      <td>Permanent Full-time</td>\n",
       "      <td>Teacher (including LVT)</td>\n",
       "      <td>3-4</td>\n",
       "      <td>3-4</td>\n",
       "      <td>2010.0</td>\n",
       "      <td>False</td>\n",
       "    </tr>\n",
       "    <tr>\n",
       "      <th>5</th>\n",
       "      <td>6.341475e+17</td>\n",
       "      <td>Southern Queensland Institute of TAFE</td>\n",
       "      <td>Delivery (teaching)</td>\n",
       "      <td>2010.0</td>\n",
       "      <td>Resignation</td>\n",
       "      <td>NaN</td>\n",
       "      <td>NaN</td>\n",
       "      <td>NaN</td>\n",
       "      <td>NaN</td>\n",
       "      <td>NaN</td>\n",
       "      <td>...</td>\n",
       "      <td>Other</td>\n",
       "      <td>NaN</td>\n",
       "      <td>Female</td>\n",
       "      <td>56 or older</td>\n",
       "      <td>Contract/casual</td>\n",
       "      <td>Teacher (including LVT)</td>\n",
       "      <td>7-10</td>\n",
       "      <td>7-10</td>\n",
       "      <td>2010.0</td>\n",
       "      <td>False</td>\n",
       "    </tr>\n",
       "    <tr>\n",
       "      <th>6</th>\n",
       "      <td>6.341520e+17</td>\n",
       "      <td>Barrier Reef Institute of TAFE</td>\n",
       "      <td>Non-Delivery (corporate)</td>\n",
       "      <td>2010.0</td>\n",
       "      <td>Resignation</td>\n",
       "      <td>NaN</td>\n",
       "      <td>Career Move - Private Sector</td>\n",
       "      <td>NaN</td>\n",
       "      <td>NaN</td>\n",
       "      <td>Maternity/Family</td>\n",
       "      <td>...</td>\n",
       "      <td>Other</td>\n",
       "      <td>NaN</td>\n",
       "      <td>Male</td>\n",
       "      <td>20 or younger</td>\n",
       "      <td>Temporary Full-time</td>\n",
       "      <td>Administration (AO)</td>\n",
       "      <td>3-4</td>\n",
       "      <td>3-4</td>\n",
       "      <td>2010.0</td>\n",
       "      <td>False</td>\n",
       "    </tr>\n",
       "    <tr>\n",
       "      <th>7</th>\n",
       "      <td>6.341537e+17</td>\n",
       "      <td>Southern Queensland Institute of TAFE</td>\n",
       "      <td>Delivery (teaching)</td>\n",
       "      <td>2010.0</td>\n",
       "      <td>Resignation</td>\n",
       "      <td>NaN</td>\n",
       "      <td>NaN</td>\n",
       "      <td>NaN</td>\n",
       "      <td>NaN</td>\n",
       "      <td>NaN</td>\n",
       "      <td>...</td>\n",
       "      <td>Other</td>\n",
       "      <td>NaN</td>\n",
       "      <td>Male</td>\n",
       "      <td>46  50</td>\n",
       "      <td>Permanent Full-time</td>\n",
       "      <td>Teacher (including LVT)</td>\n",
       "      <td>3-4</td>\n",
       "      <td>3-4</td>\n",
       "      <td>2010.0</td>\n",
       "      <td>False</td>\n",
       "    </tr>\n",
       "  </tbody>\n",
       "</table>\n",
       "<p>5 rows × 25 columns</p>\n",
       "</div>"
      ],
      "text/plain": [
       "             id                              Institute  \\\n",
       "3  6.341399e+17            Mount Isa Institute of TAFE   \n",
       "4  6.341466e+17  Southern Queensland Institute of TAFE   \n",
       "5  6.341475e+17  Southern Queensland Institute of TAFE   \n",
       "6  6.341520e+17         Barrier Reef Institute of TAFE   \n",
       "7  6.341537e+17  Southern Queensland Institute of TAFE   \n",
       "\n",
       "                   WorkArea cease_date separationtype  \\\n",
       "3  Non-Delivery (corporate)     2010.0    Resignation   \n",
       "4       Delivery (teaching)     2010.0    Resignation   \n",
       "5       Delivery (teaching)     2010.0    Resignation   \n",
       "6  Non-Delivery (corporate)     2010.0    Resignation   \n",
       "7       Delivery (teaching)     2010.0    Resignation   \n",
       "\n",
       "  Contributing Factors. Career Move - Public Sector   \\\n",
       "3                                                NaN   \n",
       "4                                                NaN   \n",
       "5                                                NaN   \n",
       "6                                                NaN   \n",
       "7                                                NaN   \n",
       "\n",
       "  Contributing Factors. Career Move - Private Sector   \\\n",
       "3                                                NaN    \n",
       "4                       Career Move - Private Sector    \n",
       "5                                                NaN    \n",
       "6                       Career Move - Private Sector    \n",
       "7                                                NaN    \n",
       "\n",
       "  Contributing Factors. Career Move - Self-employment  \\\n",
       "3                                                NaN    \n",
       "4                                                NaN    \n",
       "5                                                NaN    \n",
       "6                                                NaN    \n",
       "7                                                NaN    \n",
       "\n",
       "  Contributing Factors. Ill Health Contributing Factors. Maternity/Family  \\\n",
       "3                              NaN                                    NaN   \n",
       "4                              NaN                                    NaN   \n",
       "5                              NaN                                    NaN   \n",
       "6                              NaN                       Maternity/Family   \n",
       "7                              NaN                                    NaN   \n",
       "\n",
       "   ... Contributing Factors. Other Contributing Factors. NONE  gender  \\\n",
       "3  ...                         NaN                        NaN     NaN   \n",
       "4  ...                         NaN                        NaN    Male   \n",
       "5  ...                       Other                        NaN  Female   \n",
       "6  ...                       Other                        NaN    Male   \n",
       "7  ...                       Other                        NaN    Male   \n",
       "\n",
       "             age    employment_status                 position  \\\n",
       "3            NaN                  NaN                      NaN   \n",
       "4         41  45  Permanent Full-time  Teacher (including LVT)   \n",
       "5    56 or older      Contract/casual  Teacher (including LVT)   \n",
       "6  20 or younger  Temporary Full-time      Administration (AO)   \n",
       "7         46  50  Permanent Full-time  Teacher (including LVT)   \n",
       "\n",
       "  institute_service role_service cease_year dissatisfied  \n",
       "3               NaN          NaN     2010.0        False  \n",
       "4               3-4          3-4     2010.0        False  \n",
       "5              7-10         7-10     2010.0        False  \n",
       "6               3-4          3-4     2010.0        False  \n",
       "7               3-4          3-4     2010.0        False  \n",
       "\n",
       "[5 rows x 25 columns]"
      ]
     },
     "execution_count": 40,
     "metadata": {},
     "output_type": "execute_result"
    }
   ],
   "source": [
    "# Inspect the tafe_resignations_up table\n",
    "tafe_resignations_up.head()"
   ]
  },
  {
   "cell_type": "markdown",
   "metadata": {},
   "source": [
    "Let's add a column called <em>institute</em> to both tables to allow us to distinguish between the two when they are merged."
   ]
  },
  {
   "cell_type": "code",
   "execution_count": 41,
   "metadata": {},
   "outputs": [],
   "source": [
    "tafe_resignations_up[\"institute\"] = \"TAFE\"\n",
    "dete_resignations_up[\"institute\"] = \"DETE\""
   ]
  },
  {
   "cell_type": "markdown",
   "metadata": {},
   "source": [
    "Combine the two tables using the following columns: \n",
    "\n",
    "<br>\n",
    "id<br>\n",
    "cease_date<br>\n",
    "separationtype<br>\n",
    "gender<br>\n",
    "age<br>\n",
    "employment_status<br>\n",
    "position<br>\n",
    "institute_service<br>\n",
    "cease_year<br>\n",
    "dissatisfied<br>\n",
    "institute<br>\n",
    "<br>\n",
    "These columns contain the information that we need to answer our query:\n",
    "<br>\n",
    "<em>Are employees who have only worked for the institutes for a short period of time resigning due to some kind of dissatisfaction?<br> What about employees who have been at the job longer? </em>\n"
   ]
  },
  {
   "cell_type": "code",
   "execution_count": 42,
   "metadata": {},
   "outputs": [],
   "source": [
    "# Get the column names that are available in both the updated tafe and dete tables\n",
    "resignation_cols = []\n",
    "for col in tafe_resignations_up.columns:\n",
    "    if col in dete_resignations_up.columns:\n",
    "        resignation_cols.append(col)\n",
    "        \n",
    "# Combine the two tables\n",
    "combined = pd.concat([\n",
    "    tafe_resignations_up[resignation_cols],\n",
    "    dete_resignations_up[resignation_cols]], \n",
    "                    ).reset_index().drop('index', axis=1)\n",
    "\n",
    "combined_updated = combined.dropna(thresh=500, axis=1)        "
   ]
  },
  {
   "cell_type": "code",
   "execution_count": 43,
   "metadata": {
    "scrolled": true
   },
   "outputs": [
    {
     "data": {
      "text/plain": [
       "1-2                   100\n",
       "3-4                    99\n",
       "Less than 1 year       93\n",
       "11-20                  83\n",
       "5-6                    73\n",
       "7-10                   62\n",
       "More than 20 years     53\n",
       "Name: institute_service, dtype: int64"
      ]
     },
     "execution_count": 43,
     "metadata": {},
     "output_type": "execute_result"
    }
   ],
   "source": [
    "# Inspect the institute_service column\n",
    "combined_updated[\"institute_service\"].value_counts()"
   ]
  },
  {
   "cell_type": "markdown",
   "metadata": {},
   "source": [
    "Categorize the institute service column into New, Experienced, Established and Veteran:\n",
    "\n",
    "<ul>\n",
    "    <li>New: Less than 3 years at a company</li>\n",
    "    <li>Experienced: 3-6 years at a company</li>\n",
    "    <li>Established: 7-10 years at a company</li>\n",
    "    <li>Veteran: 11 or more years at a company</li>\n",
    "</ul>"
   ]
  },
  {
   "cell_type": "code",
   "execution_count": 44,
   "metadata": {},
   "outputs": [],
   "source": [
    "def categorize_service(val):\n",
    "    if pd.isnull(val):\n",
    "        return np.nan\n",
    "    \n",
    "    mapper = {\"1-2\":\"New\",\n",
    "              \"3-4\":\"Experienced\", \n",
    "              \"Less than 1 year\":\"New\",\n",
    "              \"11-20\":\"Veteran\",\n",
    "              \"5-6\":\"Experienced\",\n",
    "              \"7-10\":\"Established\",\n",
    "              \"More than 20 years\":\"Veteran\"}\n",
    "    return mapper[val]"
   ]
  },
  {
   "cell_type": "markdown",
   "metadata": {},
   "source": [
    "<div style=\"color:gray\">\n",
    "    <h3>IV. Analyze the data </h3>\n",
    "    </div>"
   ]
  },
  {
   "cell_type": "code",
   "execution_count": 45,
   "metadata": {},
   "outputs": [
    {
     "data": {
      "text/plain": [
       "Service_cat\n",
       "Established     62\n",
       "Experienced    172\n",
       "New            193\n",
       "Veteran        136\n",
       "Name: dissatisfied, dtype: int64"
      ]
     },
     "execution_count": 45,
     "metadata": {},
     "output_type": "execute_result"
    }
   ],
   "source": [
    "combined_updated[\"Service_cat\"] = combined_updated[\"institute_service\"].apply(lambda x: categorize_service(x))\n",
    "combined_updated.groupby('Service_cat').count()['dissatisfied'] # Count the number of respondents in each category."
   ]
  },
  {
   "cell_type": "code",
   "execution_count": 46,
   "metadata": {},
   "outputs": [
    {
     "data": {
      "text/plain": [
       "Service_cat\n",
       "New            37.0\n",
       "Experienced    50.0\n",
       "Established    28.0\n",
       "Veteran        65.0\n",
       "Name: dissatisfied, dtype: float64"
      ]
     },
     "execution_count": 46,
     "metadata": {},
     "output_type": "execute_result"
    }
   ],
   "source": [
    "# Count the number of respondents that resigned due to dissatisfaction per category\n",
    "combined_updated.groupby('Service_cat').sum()['dissatisfied'][['New','Experienced','Established','Veteran']]"
   ]
  },
  {
   "cell_type": "code",
   "execution_count": 47,
   "metadata": {
    "scrolled": true
   },
   "outputs": [
    {
     "data": {
      "text/plain": [
       "Service_cat\n",
       "Established    0.451613\n",
       "Experienced    0.290698\n",
       "New            0.191710\n",
       "Veteran        0.477941\n",
       "Name: dissatisfied, dtype: float64"
      ]
     },
     "execution_count": 47,
     "metadata": {},
     "output_type": "execute_result"
    }
   ],
   "source": [
    "percent_of_sevice_dissat = combined_updated.groupby('Service_cat').mean()['dissatisfied'] # Get the percentage\n",
    "percent_of_sevice_dissat"
   ]
  },
  {
   "cell_type": "code",
   "execution_count": 48,
   "metadata": {},
   "outputs": [
    {
     "data": {
      "image/png": "[encoded data removed]",
      "text/plain": [
       "<Figure size 600x400 with 1 Axes>"
      ]
     },
     "metadata": {},
     "output_type": "display_data"
    }
   ],
   "source": [
    "grouped_count_agg = combined_updated.groupby(['Service_cat','dissatisfied']).count().reset_index()\n",
    "\n",
    "dissat_false = grouped_count_agg.iloc[[4,2,0,6]] # Manually select rows where dissatisfied column is false\n",
    "dissat_true = grouped_count_agg.iloc[[5,3,1,7]] # Manually select rows where dissatisfied column is true\n",
    "\n",
    "# label the plot\n",
    "sns.barplot(data=grouped_count_agg, \n",
    "            x=\"Service_cat\", \n",
    "            y=\"id\", \n",
    "            hue=\"dissatisfied\", \n",
    "            order=[\"New\", \"Experienced\", \"Established\", \"Veteran\"],\n",
    "           palette=\"muted\")\n",
    "muted_palette = sns.color_palette('muted')\n",
    "bottom_bar = mpatches.Patch(color=muted_palette[1] , label='dissatisfied')\n",
    "plt.legend(handles=[bottom_bar], loc='upper left', bbox_to_anchor=(1, 1))\n",
    "\n",
    "\n",
    "values = grouped_count_agg[\"id\"]\n",
    "for i, value in enumerate(dissat_false['id']):\n",
    "    plt.annotate(value, (i, value), textcoords=\"offset points\", xytext=(-25,5), ha=\"left\", color=\"lightgray\")\n",
    "for i, value in enumerate(dissat_true['id']):\n",
    "    plt.annotate(value, (i, value), textcoords=\"offset points\", xytext=(10,5), ha=\"left\", )\n",
    "    \n",
    "    \n",
    "sns.despine(top=True, bottom=True, left=True)\n",
    "plt.gca().set_yticklabels([])\n",
    "plt.ylabel(\"\")\n",
    "plt.xlabel(\"\")\n",
    "plt.gca().set_yticks([])\n",
    "plt.title(\"The number of resignations due to dissatisfaction compared to other reasons.\")\n",
    "plt.show()"
   ]
  },
  {
   "cell_type": "markdown",
   "metadata": {},
   "source": [
    "<h1>Conclusion</h1>"
   ]
  },
  {
   "cell_type": "code",
   "execution_count": 49,
   "metadata": {
    "scrolled": true
   },
   "outputs": [
    {
     "data": {
      "image/png": "[encoded data removed]",
      "text/plain": [
       "<Figure size 800x600 with 1 Axes>"
      ]
     },
     "metadata": {},
     "output_type": "display_data"
    }
   ],
   "source": [
    "piv_service = pd.pivot_table(combined_updated, index=\"Service_cat\", values=\"dissatisfied\").reset_index()\n",
    "piv_service_rounded = piv_service.iloc[[2,1,0,3]]['dissatisfied'].apply(lambda x: round(x, 2))\n",
    "\n",
    "sns.barplot(data=piv_service,\n",
    "            x=\"Service_cat\",\n",
    "            y=\"dissatisfied\", \n",
    "            order=[\"New\", \"Experienced\", \"Established\", \"Veteran\"],\n",
    "           )\n",
    "plt.title(\"Fraction of resignations due to dissatisfaction per employee category\",  fontsize=12)\n",
    "plt.suptitle(\"More veterans resign due to dissatisfaction compared to other categories\", fontsize=16)\n",
    "\n",
    "for i, value in enumerate(piv_service_rounded):\n",
    "    plt.annotate(value, (i, value), textcoords=\"offset points\", xytext=(-5, 5))\n",
    "sns.despine(left=True, top=True, right=True)\n",
    "plt.gcf().set_size_inches(8,6)\n",
    "plt.gca().set_yticklabels([])\n",
    "plt.gca().set_yticks([])\n",
    "plt.ylabel(\"\")\n",
    "plt.xlabel(\"\")\n",
    "\n",
    "plt.show()"
   ]
  },
  {
   "cell_type": "markdown",
   "metadata": {
    "scrolled": true
   },
   "source": [
    "Almost half (48%) of the resignations of veterans of the institute is due to some kind of dissatisfaction compared to less than one fifth (19%) for new employees resignations."
   ]
  }
 ],
 "metadata": {
  "kernelspec": {
   "display_name": "Python 3",
   "language": "python",
   "name": "python3"
  },
  "language_info": {
   "codemirror_mode": {
    "name": "ipython",
    "version": 3
   },
   "file_extension": ".py",
   "mimetype": "text/x-python",
   "name": "python",
   "nbconvert_exporter": "python",
   "pygments_lexer": "ipython3",
   "version": "3.8.2"
  }
 },
 "nbformat": 4,
 "nbformat_minor": 2
}
