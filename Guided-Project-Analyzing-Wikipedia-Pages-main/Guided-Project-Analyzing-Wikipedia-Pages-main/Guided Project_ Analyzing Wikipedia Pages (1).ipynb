{
 "cells": [
  {
   "cell_type": "markdown",
   "metadata": {},
   "source": [
    "This is a __data engineering__ exercise where we implement a simplified version of the grep command-line utility to search for data in 54 megabytes worth of articles from *wikipedia*.\n",
    "\n",
    "For this project we create a **map_reduce** function that uses the *multiprocessing* and *functools* library. MapReduce reduces the time required to complete a process through multiprocessing.\n",
    "\n",
    "The main parameters of the map_reduce function are the mapper and the reducer functions. There are a few versions of the mapper and reducer functions, each version serving a different purpose. For instance there is a mapper function for the case-sensitive search and another for a non case-sensitive search.\n",
    "\n",
    "The final output of this project is a dataframe containing the filename, line number, index and an excerpt containing the search string. This can be exported as csv file for use in other projects.\n",
    "\n",
    "<img src=\"dataframe-wikipedia-pages.PNG\" height=500px width=500px >\n",
    "\n",
    "<span style=\"display: block; text-align: center; font-size: 10px;\">\n",
    "      Figure 1. A sample output for this project showing the result for searching the word \"data\" in the Wikipedia HTML files.\n",
    "</span>\n"
   ]
  },
  {
   "cell_type": "markdown",
   "metadata": {},
   "source": [
    "Load the libraries"
   ]
  },
  {
   "cell_type": "code",
   "execution_count": 1,
   "metadata": {},
   "outputs": [],
   "source": [
    "import os\n",
    "import numpy as np\n",
    "import pandas as pd\n",
    "import math\n",
    "import functools\n",
    "from multiprocessing import Pool"
   ]
  },
  {
   "cell_type": "markdown",
   "metadata": {},
   "source": [
    "Explore the wiki directory"
   ]
  },
  {
   "cell_type": "code",
   "execution_count": 2,
   "metadata": {},
   "outputs": [
    {
     "name": "stdout",
     "output_type": "stream",
     "text": [
      "Number of files: 999\n"
     ]
    }
   ],
   "source": [
    "# Check how many files\n",
    "file_names = os.listdir(\"wiki\")\n",
    "print(f'Number of files: {len(file_names)}')\n",
    "\n",
    "# Contents of a sample file\n",
    "folder_name = \"wiki\"\n",
    "file_name = file_names[0]\n",
    "with open(os.path.join(folder_name,file_name)) as f:\n",
    "    lines = [line for line in f.readlines()]\n",
    "\n",
    "# uncomment the next line to print a sample content\n",
    "# print(f\"Sample file content: {lines}\")"
   ]
  },
  {
   "cell_type": "markdown",
   "metadata": {},
   "source": [
    "Create the map_reduce function"
   ]
  },
  {
   "cell_type": "code",
   "execution_count": 3,
   "metadata": {},
   "outputs": [],
   "source": [
    "def make_chunks(data, num_chunks):\n",
    "    chunk_size = math.ceil(len(data)/num_chunks)\n",
    "    return [data[i:i+chunk_size] for i in range(0, len(data), chunk_size)]\n",
    "\n",
    "def map_reduce(data, num_processes, mapper, reducer):\n",
    "    chunks = make_chunks(data, num_processes)\n",
    "    pool = Pool(num_processes)\n",
    "    chunk_results = pool.map(mapper, chunks)\n",
    "    \n",
    "    return functools.reduce(reducer, chunk_results)"
   ]
  },
  {
   "cell_type": "markdown",
   "metadata": {},
   "source": [
    "Count the total number of lines of in all files"
   ]
  },
  {
   "cell_type": "code",
   "execution_count": 4,
   "metadata": {},
   "outputs": [],
   "source": [
    "def mapper_count(filenames_chunk):\n",
    "    line_count = 0\n",
    "    for filename in filenames_chunk:\n",
    "        with open(os.path.join(folder_name, filename)) as f:\n",
    "            line_count += len(f.readlines())\n",
    "    return line_count\n",
    "\n",
    "def reducer_count(count1, count2):\n",
    "    return (count1 + count2)"
   ]
  },
  {
   "cell_type": "code",
   "execution_count": 5,
   "metadata": {},
   "outputs": [
    {
     "data": {
      "text/plain": [
       "499797"
      ]
     },
     "execution_count": 5,
     "metadata": {},
     "output_type": "execute_result"
    }
   ],
   "source": [
    "total = map_reduce(file_names, 4, mapper_count, reducer_count)\n",
    "total"
   ]
  },
  {
   "cell_type": "markdown",
   "metadata": {},
   "source": [
    "Find the occurrences of the word \"data\" in all the files"
   ]
  },
  {
   "cell_type": "code",
   "execution_count": 6,
   "metadata": {},
   "outputs": [],
   "source": [
    "search_string = \"data\"\n",
    "\n",
    "def mapper_search_case_insensitive(filenames_chunk):\n",
    "    occurrences = {}\n",
    "    for filename in filenames_chunk:\n",
    "        with open(os.path.join(folder_name, filename)) as f:\n",
    "            indexes = [index for index,line in enumerate(f.readlines()) if search_string.lower() in line.lower()]\n",
    "        \n",
    "        occurrences[filename] = indexes\n",
    "    return occurrences\n",
    "\n",
    "def mapper_search(filenames_chunk):\n",
    "    occurrences = {}\n",
    "    for filename in filenames_chunk:\n",
    "        with open(os.path.join(folder_name, filename)) as f:\n",
    "            indexes = [index for index,line in enumerate(f.readlines()) if search_string in line]\n",
    "        \n",
    "        occurrences[filename] = indexes\n",
    "    return occurrences\n",
    "            \n",
    "def reducer_search(occurrences1, occurrences2):\n",
    "    merged = {}\n",
    "    merged.update(occurrences1)\n",
    "    merged.update(occurrences2)\n",
    "    return merged    \n",
    "\n",
    "\n",
    "\n",
    "def mapper_search_case_insensitive_pair(filenames_chunk):\n",
    "    \"\"\"\n",
    "    Parameters:\n",
    "        filenames_chunk - list of filenames\n",
    "    Outputs:\n",
    "        Returns a dictionary with the filenames as the keys and the list of index numbers where the search string value is matched.\n",
    "    \"\"\"\n",
    "    occurrences = {}\n",
    "    for filename in filenames_chunk:\n",
    "        with open(os.path.join(folder_name, filename)) as f:\n",
    "            indexes = [(idx) for index,line in enumerate(f.readlines()) for idx in get_indices(line,search_string,index) if search_string.lower() in line.lower()]\n",
    "            \n",
    "        occurrences[filename] = indexes\n",
    "    return occurrences       \n",
    "\n",
    "# HELPER FUNCTION\n",
    "def get_indices(string_line, search_string, line_number):\n",
    "    \"\"\"\n",
    "    Helper function.\n",
    "    Finds the index number that matches the search_string\n",
    "    Parameters:\n",
    "        string_line - the line of string to be searched on.\n",
    "        search_string - the string that willbe searched for in the string_line\n",
    "        line_number - the line number from the contents of the file\n",
    "    \"\"\"\n",
    "    start_index=0\n",
    "    indices = []\n",
    "    while start_index < len(string_line):\n",
    "        index_num = string_line.lower().find(search_string.lower(), start_index)\n",
    "        if index_num < 0:\n",
    "            break\n",
    "        start_index = index_num + 1\n",
    "        indices.append((line_number, index_num))\n",
    "    return indices            \n",
    "                       "
   ]
  },
  {
   "cell_type": "code",
   "execution_count": 7,
   "metadata": {},
   "outputs": [
    {
     "name": "stdout",
     "output_type": "stream",
     "text": [
      "Bay_of_ConcepciC3B3n.html : [6, 45, 58, 60, 62, 105, 188, 205]\n"
     ]
    }
   ],
   "source": [
    "# Use the mapper_search and reducer_search to find the indices of the search_string \"data\".\n",
    "\n",
    "results = map_reduce(file_names, 4, mapper_search, reducer_search)\n",
    "\n",
    "# Show a sample output of the results\n",
    "print(f\"{list(results.keys())[0]} : {results['Bay_of_ConcepciC3B3n.html']}\")\n"
   ]
  },
  {
   "cell_type": "code",
   "execution_count": 8,
   "metadata": {},
   "outputs": [],
   "source": [
    "# Use the mapper_search_case_insensitive and reducer_search to find the line number and index numbers \n",
    "# of search_string \"data\"\n",
    "\n",
    "results_case_insensitive = map_reduce(file_names, 4, mapper_search_case_insensitive, reducer_search)\n"
   ]
  },
  {
   "cell_type": "markdown",
   "metadata": {},
   "source": [
    "Display the filenames and the new indexes that got added in the case insensitive search"
   ]
  },
  {
   "cell_type": "code",
   "execution_count": 9,
   "metadata": {},
   "outputs": [],
   "source": [
    "# Uncomment the following lines of code to print the data on the additional indices matched when using case insensitive search\n",
    "# for filename in results:\n",
    "#     if len(results[filename]) < len(results_case_insensitive[filename]):\n",
    "#         print(filename,\" : \", [index_num for index_num in results_case_insensitive[filename] if index_num not in results[filename]])\n",
    "   "
   ]
  },
  {
   "cell_type": "code",
   "execution_count": 10,
   "metadata": {},
   "outputs": [],
   "source": [
    "def mapper_search_case_ins_list2(filenames_chunk):\n",
    "    \"\"\"\n",
    "    Mapper function.\n",
    "    Takes the line_number and index pair from results_case_insensitive_pair results.\n",
    "    Creates a variable named context that is an excerpt from the line in file that contained the search_string.\n",
    "    \n",
    "    Outputs:\n",
    "        Outputs an array of arrays containing the filename, line_number, index and context.\n",
    "    \"\"\"\n",
    "    results_array = []\n",
    "    for filename in filenames_chunk:\n",
    "        for line_number,index in results_case_insensitive_pair[filename]:\n",
    "            with open(os.path.join(folder_name, filename)) as f:\n",
    "                line = f.readlines()[line_number]\n",
    "            start_idx = index - 20\n",
    "            end_idx = index + 10\n",
    "            if start_idx < 0:\n",
    "                start_idx = 0\n",
    "            if len(line) < end_idx:\n",
    "                end_idx = len(line)\n",
    "            context = line[start_idx: end_idx]\n",
    "            results_array.append([filename, line_number, index, context])\n",
    "            \n",
    "    return results_array\n",
    "  \n",
    "    \n",
    "def reducer_search_case_ins_list3(occurrences1, occurrences2):\n",
    "    \"\"\"\n",
    "    Reducer function.\n",
    "    Parameters:\n",
    "        occurrences1 - a list containing rows of filenames, line_number, index, context\n",
    "        occurrences2 - a list containing rows of filenames, line_number, index, context\n",
    "    Output:\n",
    "        Returns the concatenated numpy arrays created from the lists occurrences1, occurrences2\n",
    "        \n",
    "    \"\"\"\n",
    "    arr = np.array(occurrences1)\n",
    "    arr2 = np.array(occurrences2)\n",
    "    \n",
    "    if len(arr.shape) == len(arr.shape):\n",
    "        combined = np.concatenate([arr,arr2])\n",
    "        print(\".\")\n",
    "        return combined\n",
    "    if len(arr2.shape) < 2 and len(arr.shape) == 2:\n",
    "        \n",
    "        combined = np.concatenate([arr,arr2.reshape(-1,1)], axis=0)\n",
    "        return combined\n",
    "    \n",
    "    if len(arr.shape) < 2 and len(arr2.shape) == 2:\n",
    "        combined = np.concatenate([arr.reshape(-1,1), arr2], axis=0)\n",
    "        return combined\n",
    "\n",
    "    \n",
    "def mapper_search_case_ins_list(filenames_chunk):\n",
    "    \"\"\"\n",
    "    Mapper function.\n",
    "    Parameters:\n",
    "        filenames_chunk - list of filenames from the wiki folder\n",
    "        \n",
    "    Outputs:\n",
    "        Returns the lists of filenames, line number, index, context\n",
    "    \"\"\"\n",
    "    occurrences = []\n",
    "    for filename in filenames_chunk:\n",
    "        with open(os.path.join(folder_name, filename)) as f:\n",
    "            rows_list = [rows for index,line in enumerate(f.readlines()) for rows in get_comp_list(filename, line,search_string,index) if search_string.lower() in line.lower()]\n",
    "            \n",
    "        occurrences.append(rows_list)\n",
    "    return occurrences       \n",
    "\n",
    "def reducer_search_case_ins_list(occurrences1, occurrences2):\n",
    "    \"\"\"\n",
    "    Reducer function.\n",
    "    \n",
    "    Parameters:\n",
    "        occurrences1 - a list\n",
    "        occurrences2 - a list\n",
    "        \n",
    "    Outputs:\n",
    "        Returns a merged occurrences1, occurrences2\n",
    "    \"\"\"\n",
    "    merged = []\n",
    "    merged.append(occurrences1)\n",
    "    merged.append(occurrences2)\n",
    "    print(\".\")\n",
    "    return merged\n",
    "\n",
    "    "
   ]
  },
  {
   "cell_type": "code",
   "execution_count": 11,
   "metadata": {},
   "outputs": [],
   "source": [
    "# HELPER FUNCTIONS\n",
    "def get_comp_list(filename, string_line, search_string, line_number):\n",
    "    \"\"\"\n",
    "    Helper function.\n",
    "    Finds the index number that matches the search_string\n",
    "    Parameters:\n",
    "        string_line - the line of string to be searched on.\n",
    "        search_string - the string that will be searched for in the string_line\n",
    "        line_number - the line number from the contents of the file\n",
    "    \"\"\"\n",
    "    start_index=0\n",
    "    filename_details_rows = []\n",
    "    while start_index < len(string_line):\n",
    "        index_num = string_line.lower().find(search_string.lower(), start_index)\n",
    "        if index_num < 0:\n",
    "            break\n",
    "        start_index = index_num + 1\n",
    "        filename_details_rows.append([filename, line_number, index_num, get_line_context(string_line, index_num) ])\n",
    "    return filename_details_rows \n",
    "\n",
    "\n",
    "def get_line_context(string_line, index_num):\n",
    "    \"\"\"\n",
    "    Helper function.\n",
    "    Parameters:\n",
    "        string_line - a line of string from a file.\n",
    "        index_num - the index corresponding to the index of the matched search string value\n",
    "    \n",
    "    Outputs:\n",
    "        Returns an excerpt from the string_line sliced from the computed start and end indexes.\n",
    "    \"\"\"\n",
    "    context_length = 10\n",
    "    start_idx = index_num - context_length\n",
    "    if start_idx < 0:\n",
    "        start_idx = 0\n",
    "    end_idx = index_num + context_length \n",
    "    if len(string_line) < end_idx:\n",
    "        end_idx = len(string_line)\n",
    "    \n",
    "    return string_line[start_idx:end_idx]"
   ]
  },
  {
   "cell_type": "code",
   "execution_count": 12,
   "metadata": {},
   "outputs": [],
   "source": [
    "results_case_insensitive_pair = map_reduce(file_names, 4, mapper_search_case_insensitive_pair, reducer_search)"
   ]
  },
  {
   "cell_type": "code",
   "execution_count": 13,
   "metadata": {},
   "outputs": [
    {
     "name": "stdout",
     "output_type": "stream",
     "text": [
      ".\n",
      ".\n",
      ".\n"
     ]
    }
   ],
   "source": [
    "comp_data_list = map_reduce(file_names, 4, mapper_search_case_ins_list2, reducer_search_case_ins_list3)"
   ]
  },
  {
   "cell_type": "code",
   "execution_count": 14,
   "metadata": {},
   "outputs": [],
   "source": [
    "df = pd.DataFrame(comp_data_list , columns=[\"File\",\"Line\",\"Index\",\"Context\"])"
   ]
  },
  {
   "cell_type": "markdown",
   "metadata": {},
   "source": [
    "Display the final dataframe output"
   ]
  },
  {
   "cell_type": "code",
   "execution_count": 15,
   "metadata": {},
   "outputs": [
    {
     "data": {
      "text/html": [
       "<div>\n",
       "<style scoped>\n",
       "    .dataframe tbody tr th:only-of-type {\n",
       "        vertical-align: middle;\n",
       "    }\n",
       "\n",
       "    .dataframe tbody tr th {\n",
       "        vertical-align: top;\n",
       "    }\n",
       "\n",
       "    .dataframe thead th {\n",
       "        text-align: right;\n",
       "    }\n",
       "</style>\n",
       "<table border=\"1\" class=\"dataframe\">\n",
       "  <thead>\n",
       "    <tr style=\"text-align: right;\">\n",
       "      <th></th>\n",
       "      <th>File</th>\n",
       "      <th>Line</th>\n",
       "      <th>Index</th>\n",
       "      <th>Context</th>\n",
       "    </tr>\n",
       "  </thead>\n",
       "  <tbody>\n",
       "    <tr>\n",
       "      <th>0</th>\n",
       "      <td>Bay_of_ConcepciC3B3n.html</td>\n",
       "      <td>6</td>\n",
       "      <td>422</td>\n",
       "      <td>\"Coordinates on Wikidata\",\"All</td>\n",
       "    </tr>\n",
       "    <tr>\n",
       "      <th>1</th>\n",
       "      <td>Bay_of_ConcepciC3B3n.html</td>\n",
       "      <td>45</td>\n",
       "      <td>628</td>\n",
       "      <td>-quiriquina.jpg 2x\" data-file-</td>\n",
       "    </tr>\n",
       "    <tr>\n",
       "      <th>2</th>\n",
       "      <td>Bay_of_ConcepciC3B3n.html</td>\n",
       "      <td>45</td>\n",
       "      <td>650</td>\n",
       "      <td>ta-file-width=\"960\" data-file-</td>\n",
       "    </tr>\n",
       "    <tr>\n",
       "      <th>3</th>\n",
       "      <td>Bay_of_ConcepciC3B3n.html</td>\n",
       "      <td>58</td>\n",
       "      <td>447</td>\n",
       "      <td>l photos, and other data for t</td>\n",
       "    </tr>\n",
       "    <tr>\n",
       "      <th>4</th>\n",
       "      <td>Bay_of_ConcepciC3B3n.html</td>\n",
       "      <td>58</td>\n",
       "      <td>692</td>\n",
       "      <td>l photos, and other data for t</td>\n",
       "    </tr>\n",
       "    <tr>\n",
       "      <th>...</th>\n",
       "      <td>...</td>\n",
       "      <td>...</td>\n",
       "      <td>...</td>\n",
       "      <td>...</td>\n",
       "    </tr>\n",
       "    <tr>\n",
       "      <th>20620</th>\n",
       "      <td>William_McDonald_(Australian_politician).html</td>\n",
       "      <td>117</td>\n",
       "      <td>40</td>\n",
       "      <td>s\" class=\"catlinks\" data-mw=\"i</td>\n",
       "    </tr>\n",
       "    <tr>\n",
       "      <th>20621</th>\n",
       "      <td>William_McDonald_(Australian_politician).html</td>\n",
       "      <td>200</td>\n",
       "      <td>1111</td>\n",
       "      <td>ef=\"https://www.wikidata.org/w</td>\n",
       "    </tr>\n",
       "    <tr>\n",
       "      <th>20622</th>\n",
       "      <td>William_McDonald_(Australian_politician).html</td>\n",
       "      <td>200</td>\n",
       "      <td>1161</td>\n",
       "      <td>=\"Link to connected data repos</td>\n",
       "    </tr>\n",
       "    <tr>\n",
       "      <th>20623</th>\n",
       "      <td>William_McDonald_(Australian_politician).html</td>\n",
       "      <td>200</td>\n",
       "      <td>1205</td>\n",
       "      <td>\" accesskey=\"g\"&gt;Wikidata item&lt;</td>\n",
       "    </tr>\n",
       "    <tr>\n",
       "      <th>20624</th>\n",
       "      <td>William_McDonald_(Australian_politician).html</td>\n",
       "      <td>217</td>\n",
       "      <td>124</td>\n",
       "      <td>ef=\"https://www.wikidata.org/w</td>\n",
       "    </tr>\n",
       "  </tbody>\n",
       "</table>\n",
       "<p>20625 rows × 4 columns</p>\n",
       "</div>"
      ],
      "text/plain": [
       "                                                File Line Index  \\\n",
       "0                          Bay_of_ConcepciC3B3n.html    6   422   \n",
       "1                          Bay_of_ConcepciC3B3n.html   45   628   \n",
       "2                          Bay_of_ConcepciC3B3n.html   45   650   \n",
       "3                          Bay_of_ConcepciC3B3n.html   58   447   \n",
       "4                          Bay_of_ConcepciC3B3n.html   58   692   \n",
       "...                                              ...  ...   ...   \n",
       "20620  William_McDonald_(Australian_politician).html  117    40   \n",
       "20621  William_McDonald_(Australian_politician).html  200  1111   \n",
       "20622  William_McDonald_(Australian_politician).html  200  1161   \n",
       "20623  William_McDonald_(Australian_politician).html  200  1205   \n",
       "20624  William_McDonald_(Australian_politician).html  217   124   \n",
       "\n",
       "                              Context  \n",
       "0      \"Coordinates on Wikidata\",\"All  \n",
       "1      -quiriquina.jpg 2x\" data-file-  \n",
       "2      ta-file-width=\"960\" data-file-  \n",
       "3      l photos, and other data for t  \n",
       "4      l photos, and other data for t  \n",
       "...                               ...  \n",
       "20620  s\" class=\"catlinks\" data-mw=\"i  \n",
       "20621  ef=\"https://www.wikidata.org/w  \n",
       "20622  =\"Link to connected data repos  \n",
       "20623  \" accesskey=\"g\">Wikidata item<  \n",
       "20624  ef=\"https://www.wikidata.org/w  \n",
       "\n",
       "[20625 rows x 4 columns]"
      ]
     },
     "execution_count": 15,
     "metadata": {},
     "output_type": "execute_result"
    }
   ],
   "source": [
    "df"
   ]
  },
  {
   "cell_type": "code",
   "execution_count": null,
   "metadata": {},
   "outputs": [],
   "source": []
  }
 ],
 "metadata": {
  "kernelspec": {
   "display_name": "Python 3",
   "language": "python",
   "name": "python3"
  },
  "language_info": {
   "codemirror_mode": {
    "name": "ipython",
    "version": 3
   },
   "file_extension": ".py",
   "mimetype": "text/x-python",
   "name": "python",
   "nbconvert_exporter": "python",
   "pygments_lexer": "ipython3",
   "version": "3.8.2"
  }
 },
 "nbformat": 4,
 "nbformat_minor": 1
}
